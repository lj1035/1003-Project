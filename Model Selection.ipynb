{
 "cells": [
  {
   "cell_type": "code",
   "execution_count": 1,
   "metadata": {
    "collapsed": false,
    "deletable": true,
    "editable": true
   },
   "outputs": [],
   "source": [
    "import pandas as pd\n",
    "import numpy as np\n",
    "from sklearn.model_selection import train_test_split\n",
    "import sklearn.metrics as metrics\n",
    "\n",
    "from sklearn.linear_model import RidgeCV\n",
    "from sklearn.linear_model import LassoCV\n",
    "from sklearn.linear_model import ElasticNet\n",
    "from sklearn.linear_model import BayesianRidge"
   ]
  },
  {
   "cell_type": "code",
   "execution_count": 2,
   "metadata": {
    "collapsed": false,
    "deletable": true,
    "editable": true
   },
   "outputs": [
    {
     "data": {
      "text/html": [
       "<div>\n",
       "<table border=\"1\" class=\"dataframe\">\n",
       "  <thead>\n",
       "    <tr style=\"text-align: right;\">\n",
       "      <th></th>\n",
       "      <th>zipcode</th>\n",
       "      <th>accommodates</th>\n",
       "      <th>bathrooms</th>\n",
       "      <th>bedrooms</th>\n",
       "      <th>beds</th>\n",
       "      <th>minimum_nights</th>\n",
       "      <th>number_of_reviews</th>\n",
       "      <th>review_scores_rating</th>\n",
       "      <th>calculated_host_listings_count</th>\n",
       "      <th>property_type_Apartment</th>\n",
       "      <th>...</th>\n",
       "      <th>Suitable for events</th>\n",
       "      <th>Self Check-In</th>\n",
       "      <th>Keypad</th>\n",
       "      <th>Hot tub</th>\n",
       "      <th>Lockbox</th>\n",
       "      <th>Other pet(s)</th>\n",
       "      <th>Free parking on street</th>\n",
       "      <th>Doorman Entry</th>\n",
       "      <th>Washer / Dryer</th>\n",
       "      <th>Paid parking off premises</th>\n",
       "    </tr>\n",
       "  </thead>\n",
       "  <tbody>\n",
       "    <tr>\n",
       "      <th>685006</th>\n",
       "      <td>11225.0</td>\n",
       "      <td>2</td>\n",
       "      <td>1.0</td>\n",
       "      <td>1.0</td>\n",
       "      <td>1.0</td>\n",
       "      <td>2</td>\n",
       "      <td>145</td>\n",
       "      <td>92.0</td>\n",
       "      <td>1</td>\n",
       "      <td>1.0</td>\n",
       "      <td>...</td>\n",
       "      <td>0</td>\n",
       "      <td>0</td>\n",
       "      <td>0</td>\n",
       "      <td>0</td>\n",
       "      <td>0</td>\n",
       "      <td>0</td>\n",
       "      <td>0</td>\n",
       "      <td>0</td>\n",
       "      <td>0</td>\n",
       "      <td>0</td>\n",
       "    </tr>\n",
       "    <tr>\n",
       "      <th>9461238</th>\n",
       "      <td>11211.0</td>\n",
       "      <td>5</td>\n",
       "      <td>1.0</td>\n",
       "      <td>1.0</td>\n",
       "      <td>2.0</td>\n",
       "      <td>2</td>\n",
       "      <td>50</td>\n",
       "      <td>94.0</td>\n",
       "      <td>1</td>\n",
       "      <td>0.0</td>\n",
       "      <td>...</td>\n",
       "      <td>0</td>\n",
       "      <td>0</td>\n",
       "      <td>0</td>\n",
       "      <td>0</td>\n",
       "      <td>0</td>\n",
       "      <td>0</td>\n",
       "      <td>0</td>\n",
       "      <td>0</td>\n",
       "      <td>0</td>\n",
       "      <td>0</td>\n",
       "    </tr>\n",
       "    <tr>\n",
       "      <th>4873690</th>\n",
       "      <td>11101.0</td>\n",
       "      <td>2</td>\n",
       "      <td>1.0</td>\n",
       "      <td>1.0</td>\n",
       "      <td>1.0</td>\n",
       "      <td>1</td>\n",
       "      <td>43</td>\n",
       "      <td>95.0</td>\n",
       "      <td>1</td>\n",
       "      <td>1.0</td>\n",
       "      <td>...</td>\n",
       "      <td>0</td>\n",
       "      <td>0</td>\n",
       "      <td>0</td>\n",
       "      <td>0</td>\n",
       "      <td>0</td>\n",
       "      <td>0</td>\n",
       "      <td>0</td>\n",
       "      <td>0</td>\n",
       "      <td>0</td>\n",
       "      <td>0</td>\n",
       "    </tr>\n",
       "    <tr>\n",
       "      <th>15359479</th>\n",
       "      <td>10003.0</td>\n",
       "      <td>4</td>\n",
       "      <td>1.0</td>\n",
       "      <td>1.0</td>\n",
       "      <td>1.0</td>\n",
       "      <td>5</td>\n",
       "      <td>1</td>\n",
       "      <td>100.0</td>\n",
       "      <td>1</td>\n",
       "      <td>1.0</td>\n",
       "      <td>...</td>\n",
       "      <td>0</td>\n",
       "      <td>0</td>\n",
       "      <td>0</td>\n",
       "      <td>0</td>\n",
       "      <td>0</td>\n",
       "      <td>0</td>\n",
       "      <td>0</td>\n",
       "      <td>0</td>\n",
       "      <td>0</td>\n",
       "      <td>0</td>\n",
       "    </tr>\n",
       "    <tr>\n",
       "      <th>810483</th>\n",
       "      <td>10009.0</td>\n",
       "      <td>1</td>\n",
       "      <td>1.0</td>\n",
       "      <td>1.0</td>\n",
       "      <td>1.0</td>\n",
       "      <td>2</td>\n",
       "      <td>1</td>\n",
       "      <td>89.0</td>\n",
       "      <td>1</td>\n",
       "      <td>1.0</td>\n",
       "      <td>...</td>\n",
       "      <td>0</td>\n",
       "      <td>0</td>\n",
       "      <td>0</td>\n",
       "      <td>0</td>\n",
       "      <td>0</td>\n",
       "      <td>0</td>\n",
       "      <td>0</td>\n",
       "      <td>0</td>\n",
       "      <td>0</td>\n",
       "      <td>0</td>\n",
       "    </tr>\n",
       "  </tbody>\n",
       "</table>\n",
       "<p>5 rows × 91 columns</p>\n",
       "</div>"
      ],
      "text/plain": [
       "          zipcode  accommodates  bathrooms  bedrooms  beds  minimum_nights  \\\n",
       "685006    11225.0             2        1.0       1.0   1.0               2   \n",
       "9461238   11211.0             5        1.0       1.0   2.0               2   \n",
       "4873690   11101.0             2        1.0       1.0   1.0               1   \n",
       "15359479  10003.0             4        1.0       1.0   1.0               5   \n",
       "810483    10009.0             1        1.0       1.0   1.0               2   \n",
       "\n",
       "          number_of_reviews  review_scores_rating  \\\n",
       "685006                  145                  92.0   \n",
       "9461238                  50                  94.0   \n",
       "4873690                  43                  95.0   \n",
       "15359479                  1                 100.0   \n",
       "810483                    1                  89.0   \n",
       "\n",
       "          calculated_host_listings_count  property_type_Apartment  \\\n",
       "685006                                 1                      1.0   \n",
       "9461238                                1                      0.0   \n",
       "4873690                                1                      1.0   \n",
       "15359479                               1                      1.0   \n",
       "810483                                 1                      1.0   \n",
       "\n",
       "                    ...              Suitable for events  Self Check-In  \\\n",
       "685006              ...                                0              0   \n",
       "9461238             ...                                0              0   \n",
       "4873690             ...                                0              0   \n",
       "15359479            ...                                0              0   \n",
       "810483              ...                                0              0   \n",
       "\n",
       "          Keypad  Hot tub  Lockbox  Other pet(s)  Free parking on street  \\\n",
       "685006         0        0        0             0                       0   \n",
       "9461238        0        0        0             0                       0   \n",
       "4873690        0        0        0             0                       0   \n",
       "15359479       0        0        0             0                       0   \n",
       "810483         0        0        0             0                       0   \n",
       "\n",
       "          Doorman Entry  Washer / Dryer  Paid parking off premises  \n",
       "685006                0               0                          0  \n",
       "9461238               0               0                          0  \n",
       "4873690               0               0                          0  \n",
       "15359479              0               0                          0  \n",
       "810483                0               0                          0  \n",
       "\n",
       "[5 rows x 91 columns]"
      ]
     },
     "execution_count": 2,
     "metadata": {},
     "output_type": "execute_result"
    }
   ],
   "source": [
    "data = pd.read_csv('./airbnb_v2.csv', low_memory=False, index_col=0)\n",
    "data = data[data['Y'] <= 200]\n",
    "data['zipcode'] = pd.to_numeric(data['zipcode'], errors='coerce')\n",
    "data = data.dropna()\n",
    "x = data.iloc[:, 0:-1]\n",
    "y = data.iloc[:, -1]\n",
    "x.head()"
   ]
  },
  {
   "cell_type": "code",
   "execution_count": null,
   "metadata": {
    "collapsed": true
   },
   "outputs": [],
   "source": [
    "x = x.as_matrix()\n",
    "y = y.as_matrix()"
   ]
  },
  {
   "cell_type": "markdown",
   "metadata": {
    "deletable": true,
    "editable": true
   },
   "source": [
    "# Linear Models"
   ]
  },
  {
   "cell_type": "code",
   "execution_count": 3,
   "metadata": {
    "collapsed": false,
    "deletable": true,
    "editable": true
   },
   "outputs": [],
   "source": [
    "class model:\n",
    "    \n",
    "    def __init__(self, model):\n",
    "        self.model = model\n",
    "        self.x_train = None\n",
    "        self.y_train = None\n",
    "        self.x_test = None\n",
    "        self.y_test = None\n",
    "        self.y_pred_train = None\n",
    "        self.y_pred_test = None\n",
    "        \n",
    "    \n",
    "    def data_split(self, x, y, test_size=0.3):\n",
    "        self.x_train, self.x_test, self.y_train, self.y_test = train_test_split(x, y, test_size=test_size)\n",
    "\n",
    "    def fit_model(self, x, y, test_size=0.3):\n",
    "        self.data_split(x, y, test_size)\n",
    "        self.model = self.model.fit(self.x_train, self.y_train)\n",
    "        \n",
    "        self.y_pred_train = self.model.predict(self.x_train)\n",
    "        self.y_pred_test = self.model.predict(self.x_test)\n",
    "    \n",
    "    def err_reg(self):\n",
    "        mae_train = metrics.median_absolute_error(self.y_pred_train, self.y_train)\n",
    "        mae_test = metrics.median_absolute_error(self.y_pred_test, self.y_test)\n",
    "        \n",
    "        mse_train = metrics.mean_squared_error(self.y_pred_train, self.y_train)\n",
    "        mse_test = metrics.mean_squared_error(self.y_pred_test, self.y_test)\n",
    "        return mae_test, mse_test, mae_train, mse_train"
   ]
  },
  {
   "cell_type": "code",
   "execution_count": 4,
   "metadata": {
    "collapsed": false,
    "deletable": true,
    "editable": true
   },
   "outputs": [],
   "source": [
    "import numpy as np\n",
    "\n",
    "reg_params = 10.**np.arange(-7, 3, 1)\n",
    "models = [RidgeCV(alphas=reg_params, cv=5), LassoCV(alphas=reg_params, cv=5), ElasticNet(alpha=1.0, l1_ratio=0.85), BayesianRidge()]\n",
    "model_labels = ['RidgeCV', 'LassoCV', 'ElasticNet', 'BayesRidge']\n",
    "err = {}\n",
    "n = len(models)"
   ]
  },
  {
   "cell_type": "code",
   "execution_count": 5,
   "metadata": {
    "collapsed": false,
    "deletable": true,
    "editable": true
   },
   "outputs": [],
   "source": [
    "for i in range(n):\n",
    "    new_model = model(models[i])\n",
    "    new_model.fit_model(x, y)\n",
    "    err[model_labels[i]] = new_model.err_reg()"
   ]
  },
  {
   "cell_type": "code",
   "execution_count": 6,
   "metadata": {
    "collapsed": false,
    "deletable": true,
    "editable": true
   },
   "outputs": [],
   "source": [
    "err_df = pd.DataFrame.from_dict(err, orient='index')\n",
    "err_df.columns = [\"mae_test\", \"mse_test\", \"mae_train\", \"mse_train\"]"
   ]
  },
  {
   "cell_type": "code",
   "execution_count": 10,
   "metadata": {
    "collapsed": false,
    "deletable": true,
    "editable": true,
    "scrolled": true
   },
   "outputs": [
    {
     "data": {
      "text/html": [
       "<div>\n",
       "<table border=\"1\" class=\"dataframe\">\n",
       "  <thead>\n",
       "    <tr style=\"text-align: right;\">\n",
       "      <th></th>\n",
       "      <th>mae_test</th>\n",
       "      <th>mse_test</th>\n",
       "      <th>mae_train</th>\n",
       "      <th>mse_train</th>\n",
       "    </tr>\n",
       "  </thead>\n",
       "  <tbody>\n",
       "    <tr>\n",
       "      <th>RidgeCV</th>\n",
       "      <td>20.590887</td>\n",
       "      <td>1029.138764</td>\n",
       "      <td>20.453169</td>\n",
       "      <td>993.178143</td>\n",
       "    </tr>\n",
       "    <tr>\n",
       "      <th>LassoCV</th>\n",
       "      <td>20.570210</td>\n",
       "      <td>1013.042958</td>\n",
       "      <td>20.411991</td>\n",
       "      <td>1000.767289</td>\n",
       "    </tr>\n",
       "    <tr>\n",
       "      <th>ElasticNet</th>\n",
       "      <td>23.860418</td>\n",
       "      <td>1175.598578</td>\n",
       "      <td>23.740487</td>\n",
       "      <td>1180.459670</td>\n",
       "    </tr>\n",
       "    <tr>\n",
       "      <th>BayesRidge</th>\n",
       "      <td>20.789886</td>\n",
       "      <td>1018.914883</td>\n",
       "      <td>20.378710</td>\n",
       "      <td>999.440961</td>\n",
       "    </tr>\n",
       "  </tbody>\n",
       "</table>\n",
       "</div>"
      ],
      "text/plain": [
       "             mae_test     mse_test  mae_train    mse_train\n",
       "RidgeCV     20.590887  1029.138764  20.453169   993.178143\n",
       "LassoCV     20.570210  1013.042958  20.411991  1000.767289\n",
       "ElasticNet  23.860418  1175.598578  23.740487  1180.459670\n",
       "BayesRidge  20.789886  1018.914883  20.378710   999.440961"
      ]
     },
     "execution_count": 10,
     "metadata": {},
     "output_type": "execute_result"
    }
   ],
   "source": [
    "err_df"
   ]
  },
  {
   "cell_type": "markdown",
   "metadata": {
    "deletable": true,
    "editable": true
   },
   "source": [
    "# KRR(Kernalized Ridge Regression) and SVR(Support Vector Regression)"
   ]
  },
  {
   "cell_type": "code",
   "execution_count": 11,
   "metadata": {
    "collapsed": false,
    "deletable": true,
    "editable": true
   },
   "outputs": [],
   "source": [
    "from sklearn.svm import SVR\n",
    "from sklearn.model_selection import GridSearchCV\n",
    "from sklearn.kernel_ridge import KernelRidge"
   ]
  },
  {
   "cell_type": "code",
   "execution_count": 12,
   "metadata": {
    "collapsed": true
   },
   "outputs": [],
   "source": [
    "x_train, x_test, y_train, y_test = train_test_split(x, y, test_size=0.35)"
   ]
  },
  {
   "cell_type": "code",
   "execution_count": 13,
   "metadata": {
    "collapsed": false,
    "deletable": true,
    "editable": true
   },
   "outputs": [],
   "source": [
    "kr = GridSearchCV(KernelRidge(kernel='rbf'), cv=5,\n",
    "                  param_grid={\"alpha\": [1e0, 0.1, 1e-2, 1e-3],\n",
    "                              \"gamma\": np.logspace(-2, 2, 5)})"
   ]
  },
  {
   "cell_type": "code",
   "execution_count": 14,
   "metadata": {
    "collapsed": false
   },
   "outputs": [
    {
     "data": {
      "text/plain": [
       "GridSearchCV(cv=5, error_score='raise',\n",
       "       estimator=KernelRidge(alpha=1, coef0=1, degree=3, gamma=None, kernel='rbf',\n",
       "      kernel_params=None),\n",
       "       fit_params={}, iid=True, n_jobs=1,\n",
       "       param_grid={'alpha': [1.0, 0.1, 0.01, 0.001], 'gamma': array([  1.00000e-02,   1.00000e-01,   1.00000e+00,   1.00000e+01,\n",
       "         1.00000e+02])},\n",
       "       pre_dispatch='2*n_jobs', refit=True, return_train_score=True,\n",
       "       scoring=None, verbose=0)"
      ]
     },
     "execution_count": 14,
     "metadata": {},
     "output_type": "execute_result"
    }
   ],
   "source": [
    "kr.fit(x_train, y_train)"
   ]
  },
  {
   "cell_type": "code",
   "execution_count": 15,
   "metadata": {
    "collapsed": false
   },
   "outputs": [
    {
     "name": "stdout",
     "output_type": "stream",
     "text": [
      "{'alpha': 1.0, 'gamma': 0.01}\n",
      "[ 0.48763168 -0.07958779 -4.77877046 -4.80499315 -4.80501869  0.48651936\n",
      "  0.04616077 -4.76042605 -4.80452116 -4.80456671  0.39514536  0.0431459\n",
      " -4.75711448 -4.80452246 -4.80457188  0.18846007  0.04048647 -4.75675641\n",
      " -4.80452445 -4.80457429]\n"
     ]
    }
   ],
   "source": [
    "means = kr.cv_results_['mean_test_score']\n",
    "print(kr.best_params_)\n",
    "print(means)"
   ]
  },
  {
   "cell_type": "code",
   "execution_count": 16,
   "metadata": {
    "collapsed": false
   },
   "outputs": [
    {
     "data": {
      "text/plain": [
       "KernelRidge(alpha=1, coef0=1, degree=3, gamma=0.01, kernel='rbf',\n",
       "      kernel_params=None)"
      ]
     },
     "execution_count": 16,
     "metadata": {},
     "output_type": "execute_result"
    }
   ],
   "source": [
    "model = KernelRidge(kernel='rbf', alpha=1, gamma=0.01)\n",
    "model.fit(x_train, y_train)"
   ]
  },
  {
   "cell_type": "code",
   "execution_count": 17,
   "metadata": {
    "collapsed": false
   },
   "outputs": [
    {
     "data": {
      "text/plain": [
       "21.320797704308973"
      ]
     },
     "execution_count": 17,
     "metadata": {},
     "output_type": "execute_result"
    }
   ],
   "source": [
    "metrics.median_absolute_error(model.predict(x_test), y_test)"
   ]
  },
  {
   "cell_type": "code",
   "execution_count": 18,
   "metadata": {
    "collapsed": false,
    "deletable": true,
    "editable": true
   },
   "outputs": [],
   "source": [
    "svr = GridSearchCV(SVR(kernel='rbf'), cv=5,\n",
    "                   param_grid={\"C\": [1e0, 1e1, 1e2, 1e3],\n",
    "                               \"gamma\": np.logspace(-2, 2, 5)})"
   ]
  },
  {
   "cell_type": "code",
   "execution_count": 19,
   "metadata": {
    "collapsed": false,
    "deletable": true,
    "editable": true
   },
   "outputs": [
    {
     "data": {
      "text/plain": [
       "GridSearchCV(cv=5, error_score='raise',\n",
       "       estimator=SVR(C=1.0, cache_size=200, coef0=0.0, degree=3, epsilon=0.1, gamma='auto',\n",
       "  kernel='rbf', max_iter=-1, shrinking=True, tol=0.001, verbose=False),\n",
       "       fit_params={}, iid=True, n_jobs=1,\n",
       "       param_grid={'C': [1.0, 10.0, 100.0, 1000.0], 'gamma': array([  1.00000e-02,   1.00000e-01,   1.00000e+00,   1.00000e+01,\n",
       "         1.00000e+02])},\n",
       "       pre_dispatch='2*n_jobs', refit=True, return_train_score=True,\n",
       "       scoring=None, verbose=0)"
      ]
     },
     "execution_count": 19,
     "metadata": {},
     "output_type": "execute_result"
    }
   ],
   "source": [
    "svr.fit(x_train, y_train)"
   ]
  },
  {
   "cell_type": "code",
   "execution_count": 20,
   "metadata": {
    "collapsed": false
   },
   "outputs": [
    {
     "name": "stdout",
     "output_type": "stream",
     "text": [
      "{'C': 100.0, 'gamma': 0.01}\n",
      "[  3.06641167e-01   1.24886473e-01  -3.18045984e-02  -3.19226687e-02\n",
      "  -3.19228774e-02   4.67257290e-01   3.33468521e-01  -3.66125557e-02\n",
      "  -3.77836945e-02  -3.77871991e-02   4.98066726e-01   3.91410934e-01\n",
      "   4.93990345e-03  -3.36738813e-05  -4.03125225e-05   4.25835801e-01\n",
      "   3.65832960e-01   4.94006484e-03  -3.36678176e-05  -4.03109793e-05]\n"
     ]
    }
   ],
   "source": [
    "means = svr.cv_results_['mean_test_score']\n",
    "print(svr.best_params_)\n",
    "print(means)"
   ]
  },
  {
   "cell_type": "code",
   "execution_count": 21,
   "metadata": {
    "collapsed": false
   },
   "outputs": [
    {
     "data": {
      "text/plain": [
       "SVR(C=100, cache_size=200, coef0=0.0, degree=3, epsilon=0.1, gamma=0.01,\n",
       "  kernel='rbf', max_iter=-1, shrinking=True, tol=0.001, verbose=False)"
      ]
     },
     "execution_count": 21,
     "metadata": {},
     "output_type": "execute_result"
    }
   ],
   "source": [
    "model = SVR(kernel='rbf', C=100, gamma=0.01)\n",
    "model.fit(x_train, y_train)"
   ]
  },
  {
   "cell_type": "code",
   "execution_count": 22,
   "metadata": {
    "collapsed": false
   },
   "outputs": [
    {
     "data": {
      "text/plain": [
       "20.456004130275645"
      ]
     },
     "execution_count": 22,
     "metadata": {},
     "output_type": "execute_result"
    }
   ],
   "source": [
    "metrics.median_absolute_error(model.predict(x_test), y_test)"
   ]
  },
  {
   "cell_type": "markdown",
   "metadata": {
    "deletable": true,
    "editable": true
   },
   "source": [
    "# Random Forest Regressor"
   ]
  },
  {
   "cell_type": "code",
   "execution_count": 81,
   "metadata": {
    "collapsed": false,
    "deletable": true,
    "editable": true
   },
   "outputs": [],
   "source": [
    "from sklearn.ensemble import RandomForestRegressor\n",
    "\n",
    "def random_forest_model(x, y):\n",
    "    best_score = 0\n",
    "    best_depth = 0\n",
    "    # tune for tree depth from 1 to 20\n",
    "    for j in range(1, 21):\n",
    "        rf = RandomForestRegressor(n_estimators=50, max_depth=j, oob_score=True)\n",
    "        rf.fit(x, y)\n",
    "        score = rf.score(x, y)\n",
    "        score = rf.oob_score_\n",
    "        if score > best_score:\n",
    "            best_score = score\n",
    "            best_depth = j\n",
    "    return best_score, best_depth\n",
    "\n",
    "def random_forest_tuned(best_depth, x_train, x_test, y_train, y_test):\n",
    "    rf = RandomForestRegressor(n_estimators=50, max_depth=best_depth)\n",
    "    rf.fit(x_train, y_train)\n",
    "    y_pred_test = rf.predict(x_test)\n",
    "    y_pred_train = rf.predict(x_train)\n",
    "    \n",
    "    print (\"Train Median Absolute Error\", metrics.median_absolute_error(y_pred_train, y_train))\n",
    "    print (\"Train Mean Squared Error\", metrics.mean_squared_error(y_pred_train, y_train))\n",
    "    print (\"Test Median Absolute Error\", metrics.median_absolute_error(y_pred_test, y_test))\n",
    "    print (\"Test Mean Squared Error\", metrics.mean_squared_error(y_pred_test, y_test))\n",
    "    print (\"Train Relative Error\", np.mean(np.abs(1 - y_pred_train / y_train)))\n",
    "    print (\"Test Relative Error\", np.mean(np.abs(1 - y_pred_test / y_test)))"
   ]
  },
  {
   "cell_type": "code",
   "execution_count": 57,
   "metadata": {
    "collapsed": true,
    "deletable": true,
    "editable": true
   },
   "outputs": [],
   "source": [
    "x_train, x_test, y_train, y_test = train_test_split(x, y, test_size=0.35)"
   ]
  },
  {
   "cell_type": "code",
   "execution_count": 47,
   "metadata": {
    "collapsed": false,
    "deletable": true,
    "editable": true
   },
   "outputs": [],
   "source": [
    "rf_values = random_forest_model(x, y)"
   ]
  },
  {
   "cell_type": "code",
   "execution_count": 50,
   "metadata": {
    "collapsed": false,
    "deletable": true,
    "editable": true
   },
   "outputs": [
    {
     "name": "stdout",
     "output_type": "stream",
     "text": [
      "Best OOB Score: 0.540501839099\n",
      "Best Depth 12\n"
     ]
    }
   ],
   "source": [
    "print('Best OOB Score:', rf_values[0])\n",
    "print('Best Depth', rf_values[1])"
   ]
  },
  {
   "cell_type": "code",
   "execution_count": 82,
   "metadata": {
    "collapsed": false,
    "deletable": true,
    "editable": true
   },
   "outputs": [
    {
     "name": "stdout",
     "output_type": "stream",
     "text": [
      "Train Median Absolute Error 12.4017369616\n",
      "Train Mean Squared Error 376.388430654\n",
      "Test Median Absolute Error 16.5102490067\n",
      "Test Mean Squared Error 763.970458092\n",
      "Train Relative Error 0.17158246820286588\n",
      "Test Relative Error 0.23983905053596066\n"
     ]
    }
   ],
   "source": [
    "x_train, x_test, y_train, y_test = train_test_split(x, y, test_size=0.35)\n",
    "random_forest_tuned(rf_values[1]+1, x_train, x_test, y_train, y_test)"
   ]
  },
  {
   "cell_type": "markdown",
   "metadata": {},
   "source": [
    "# GBRT"
   ]
  },
  {
   "cell_type": "code",
   "execution_count": 3,
   "metadata": {
    "collapsed": true
   },
   "outputs": [],
   "source": [
    "import numpy as np\n",
    "from sklearn.metrics import mean_squared_error\n",
    "from sklearn.datasets import make_friedman1\n",
    "from sklearn.ensemble import GradientBoostingRegressor"
   ]
  },
  {
   "cell_type": "code",
   "execution_count": 32,
   "metadata": {
    "collapsed": false,
    "deletable": true,
    "editable": true
   },
   "outputs": [],
   "source": [
    "def GBRT_model(x, y):\n",
    "    best_score = 1e5\n",
    "    best_depth = 0\n",
    "    for j in range(1, 21):\n",
    "        model = GradientBoostingRegressor(loss='huber', n_estimators=50, max_depth=j)\n",
    "        n = len(x)\n",
    "        n0 = int(n*0.8)\n",
    "        model.fit(x[:n0], y[:n0])\n",
    "        score = metrics.median_absolute_error(model.predict(x[n0:]), y[n0:])\n",
    "        if score < best_score:\n",
    "            best_score = score\n",
    "            best_depth = j\n",
    "    return best_score, best_depth\n",
    "\n",
    "def GBRT_tuned(best_depth, x_train, x_test, y_train, y_test):\n",
    "    model = GradientBoostingRegressor(loss='huber', n_estimators=50, max_depth=best_depth)\n",
    "    model.fit(x_train, y_train)\n",
    "    y_pred_test = model.predict(x_test)\n",
    "    y_pred_train = model.predict(x_train)\n",
    "    \n",
    "    print (\"Train Median Absolute Error\", metrics.median_absolute_error(y_pred_train, y_train))\n",
    "    print (\"Train Mean Squared Error\", metrics.mean_squared_error(y_pred_train, y_train))\n",
    "    print (\"Test Median Absolute Error\", metrics.median_absolute_error(y_pred_test, y_test))\n",
    "    print (\"Test Mean Squared Error\", metrics.mean_squared_error(y_pred_test, y_test))"
   ]
  },
  {
   "cell_type": "code",
   "execution_count": 33,
   "metadata": {
    "collapsed": true
   },
   "outputs": [],
   "source": [
    "values = GBRT_model(x_train, y_train)"
   ]
  },
  {
   "cell_type": "code",
   "execution_count": 34,
   "metadata": {
    "collapsed": false
   },
   "outputs": [
    {
     "name": "stdout",
     "output_type": "stream",
     "text": [
      "(19.751988785774479, 9)\n"
     ]
    }
   ],
   "source": [
    "print(values)"
   ]
  },
  {
   "cell_type": "code",
   "execution_count": 35,
   "metadata": {
    "collapsed": false
   },
   "outputs": [
    {
     "name": "stdout",
     "output_type": "stream",
     "text": [
      "Train Median Absolute Error 13.9390961853\n",
      "Train Mean Squared Error 527.399097372\n",
      "Test Median Absolute Error 19.3443108926\n",
      "Test Mean Squared Error 976.065545249\n"
     ]
    }
   ],
   "source": [
    "GBRT_tuned(values[1], x_train, x_test, y_train, y_test)"
   ]
  },
  {
   "cell_type": "code",
   "execution_count": 5,
   "metadata": {
    "collapsed": true
   },
   "outputs": [],
   "source": [
    "def GBRT_tuned(best_depth, x_train, x_test, y_train, y_test):\n",
    "    model = GradientBoostingRegressor(loss='huber', n_estimators=50, max_depth=best_depth)\n",
    "    model.fit(x_train, y_train)\n",
    "    y_pred_test = model.predict(x_test)\n",
    "    y_pred_train = model.predict(x_train)\n",
    "    \n",
    "    print (\"Train Median Absolute Error\", metrics.median_absolute_error(y_pred_train, y_train))\n",
    "    print (\"Train Mean Squared Error\", metrics.mean_squared_error(y_pred_train, y_train))\n",
    "    print (\"Test Median Absolute Error\", metrics.median_absolute_error(y_pred_test, y_test))\n",
    "    print (\"Test Mean Squared Error\", metrics.mean_squared_error(y_pred_test, y_test))"
   ]
  }
 ],
 "metadata": {
  "anaconda-cloud": {},
  "kernelspec": {
   "display_name": "Python 3",
   "language": "python",
   "name": "python3"
  },
  "language_info": {
   "codemirror_mode": {
    "name": "ipython",
    "version": 3
   },
   "file_extension": ".py",
   "mimetype": "text/x-python",
   "name": "python",
   "nbconvert_exporter": "python",
   "pygments_lexer": "ipython3",
   "version": "3.6.0"
  }
 },
 "nbformat": 4,
 "nbformat_minor": 1
}
