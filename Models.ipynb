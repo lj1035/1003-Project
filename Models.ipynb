{
 "cells": [
  {
   "cell_type": "code",
   "execution_count": 2,
   "metadata": {
    "collapsed": true
   },
   "outputs": [],
   "source": [
    "import pandas as pd\n",
    "import numpy as np"
   ]
  },
  {
   "cell_type": "code",
   "execution_count": 95,
   "metadata": {
    "collapsed": true
   },
   "outputs": [],
   "source": [
    "data = pd.read_csv('./airbnb_v1.csv')\n",
    "data = data[data['Y'] <= 200]\n",
    "data = data.iloc[:, 1::]\n",
    "x = data.iloc[:, 0:-1]\n",
    "y = data.iloc[:, -1]\n",
    "x_train, x_test, y_train, y_test = train_test_split(x, y, test_size=0.3)"
   ]
  },
  {
   "cell_type": "code",
   "execution_count": 104,
   "metadata": {
    "collapsed": false
   },
   "outputs": [],
   "source": [
    "x_train.to_csv('./x_train.csv', index=False)\n",
    "x_test.to_csv('./x_test.csv', index=False)\n",
    "y_train.to_csv('./y_train.csv', index=False)\n",
    "y_test.to_csv('./y_test.csv', index=False)"
   ]
  },
  {
   "cell_type": "code",
   "execution_count": 3,
   "metadata": {
    "collapsed": false
   },
   "outputs": [],
   "source": [
    "x_train = pd.read_csv('./x_train.csv')\n",
    "x_test = pd.read_csv('./x_test.csv')\n",
    "y_train = pd.read_csv('./y_train.csv', header = None).iloc[:, -1]\n",
    "y_test = pd.read_csv('./y_test.csv', header = None).iloc[:, -1]"
   ]
  },
  {
   "cell_type": "code",
   "execution_count": 4,
   "metadata": {
    "collapsed": false
   },
   "outputs": [
    {
     "name": "stderr",
     "output_type": "stream",
     "text": [
      "//anaconda/lib/python3.5/site-packages/sklearn/cross_validation.py:44: DeprecationWarning: This module was deprecated in version 0.18 in favor of the model_selection module into which all the refactored classes and functions are moved. Also note that the interface of the new CV iterators are different from that of this module. This module will be removed in 0.20.\n",
      "  \"This module will be removed in 0.20.\", DeprecationWarning)\n"
     ]
    }
   ],
   "source": [
    "from sklearn.cross_validation import train_test_split\n",
    "import sklearn.metrics as metrics\n",
    "from sklearn.cluster import KMeans\n",
    "from sklearn.linear_model import RidgeCV\n",
    "from sklearn.linear_model import LassoCV\n",
    "from sklearn.linear_model import ElasticNet\n",
    "from sklearn.linear_model import BayesianRidge\n",
    "from sklearn.utils import resample"
   ]
  },
  {
   "cell_type": "markdown",
   "metadata": {},
   "source": [
    "# Linear Models"
   ]
  },
  {
   "cell_type": "code",
   "execution_count": 5,
   "metadata": {
    "collapsed": false
   },
   "outputs": [],
   "source": [
    "class model:\n",
    "    \n",
    "    def __init__(self, model, x_train, y_train, x_test, y_test):\n",
    "        self.model = model\n",
    "        self.x_train = x_train.as_matrix()\n",
    "        self.y_train = y_train.as_matrix()\n",
    "        self.x_test = x_test.as_matrix()\n",
    "        self.y_test = y_test.as_matrix()\n",
    "        self.y_pred_train = None\n",
    "        self.y_pred_test = None\n",
    "\n",
    "    def fit_model(self):\n",
    "        self.model = self.model.fit(self.x_train, self.y_train)\n",
    "        \n",
    "        self.y_pred_train = self.model.predict(self.x_train)\n",
    "        self.y_pred_test = self.model.predict(self.x_test)\n",
    "        return self\n",
    "    \n",
    "    def error(self):\n",
    "        mae_train = metrics.median_absolute_error(self.y_pred_train, self.y_train)\n",
    "        mae_test = metrics.median_absolute_error(self.y_pred_test, self.y_test)\n",
    "        \n",
    "        mse_train = metrics.mean_squared_error(self.y_pred_train, self.y_train)\n",
    "        mse_test = metrics.mean_squared_error(self.y_pred_test, self.y_test)\n",
    "        return mae_test, mse_test, mae_train, mse_train"
   ]
  },
  {
   "cell_type": "code",
   "execution_count": 6,
   "metadata": {
    "collapsed": true
   },
   "outputs": [],
   "source": [
    "def bootstrap(algo, x_train, y_train, x_test, y_test, B=50):\n",
    "    mae_test = np.zeros(B)\n",
    "    mse_test = np.zeros(B)\n",
    "    for i in range(B):\n",
    "        x_train_b, y_train_b = resample(x_train, y_train)\n",
    "        new_model = model(algo, x_train_b, y_train_b, x_test, y_test)\n",
    "        new_model = new_model.fit_model()\n",
    "        err = new_model.error()\n",
    "        mae_test[i] = err[0]\n",
    "        mse_test[i] = err[1]\n",
    "    return mae_test, mse_test"
   ]
  },
  {
   "cell_type": "code",
   "execution_count": 7,
   "metadata": {
    "collapsed": true
   },
   "outputs": [],
   "source": [
    "x_train_reg = x_train.iloc[:,1:]\n",
    "x_test_reg = x_test.iloc[:,1:]"
   ]
  },
  {
   "cell_type": "markdown",
   "metadata": {},
   "source": [
    "## Ridge"
   ]
  },
  {
   "cell_type": "code",
   "execution_count": 9,
   "metadata": {
    "collapsed": false
   },
   "outputs": [],
   "source": [
    "reg_params = 10.**np.arange(-7, 3, 1)\n",
    "mae, mse = bootstrap(RidgeCV(alphas=reg_params, cv=5), x_train_new, y_train, x_test_new, y_test)"
   ]
  },
  {
   "cell_type": "code",
   "execution_count": 10,
   "metadata": {
    "collapsed": true
   },
   "outputs": [],
   "source": [
    "mae = np.append(mae, np.mean(mae))\n",
    "mae = np.append(mae, np.std(mae))\n",
    "mse = np.append(mse, np.mean(mse))\n",
    "mse = np.append(mse, np.std(mse))\n",
    "    \n",
    "df_mae = pd.DataFrame(mae)\n",
    "df_mse = pd.DataFrame(mse)\n",
    "\n",
    "df_mae.columns = ['ClusterDum+RidgeCV']\n",
    "df_mse.columns = ['ClusterDum+RidgeCV']"
   ]
  },
  {
   "cell_type": "code",
   "execution_count": 12,
   "metadata": {
    "collapsed": false
   },
   "outputs": [],
   "source": [
    "def add_to_df(mae, mse, df_mae, df_mse, modelname):\n",
    "    mae = np.append(mae, np.mean(mae))\n",
    "    mae = np.append(mae, np.std(mae))\n",
    "    mse = np.append(mse, np.mean(mse))\n",
    "    mse = np.append(mse, np.std(mse))\n",
    "    \n",
    "    df_mae[modelname] = mae\n",
    "    df_mse[modelname] = mse"
   ]
  },
  {
   "cell_type": "markdown",
   "metadata": {},
   "source": [
    "## Lasso"
   ]
  },
  {
   "cell_type": "code",
   "execution_count": 13,
   "metadata": {
    "collapsed": true
   },
   "outputs": [
    {
     "name": "stderr",
     "output_type": "stream",
     "text": [
      "//anaconda/lib/python3.5/site-packages/sklearn/linear_model/coordinate_descent.py:484: ConvergenceWarning: Objective did not converge. You might want to increase the number of iterations. Fitting data with very small alpha may cause precision problems.\n",
      "  ConvergenceWarning)\n",
      "//anaconda/lib/python3.5/site-packages/sklearn/linear_model/coordinate_descent.py:484: ConvergenceWarning: Objective did not converge. You might want to increase the number of iterations. Fitting data with very small alpha may cause precision problems.\n",
      "  ConvergenceWarning)\n",
      "//anaconda/lib/python3.5/site-packages/sklearn/linear_model/coordinate_descent.py:484: ConvergenceWarning: Objective did not converge. You might want to increase the number of iterations. Fitting data with very small alpha may cause precision problems.\n",
      "  ConvergenceWarning)\n",
      "//anaconda/lib/python3.5/site-packages/sklearn/linear_model/coordinate_descent.py:484: ConvergenceWarning: Objective did not converge. You might want to increase the number of iterations. Fitting data with very small alpha may cause precision problems.\n",
      "  ConvergenceWarning)\n",
      "//anaconda/lib/python3.5/site-packages/sklearn/linear_model/coordinate_descent.py:484: ConvergenceWarning: Objective did not converge. You might want to increase the number of iterations. Fitting data with very small alpha may cause precision problems.\n",
      "  ConvergenceWarning)\n",
      "//anaconda/lib/python3.5/site-packages/sklearn/linear_model/coordinate_descent.py:484: ConvergenceWarning: Objective did not converge. You might want to increase the number of iterations. Fitting data with very small alpha may cause precision problems.\n",
      "  ConvergenceWarning)\n",
      "//anaconda/lib/python3.5/site-packages/sklearn/linear_model/coordinate_descent.py:484: ConvergenceWarning: Objective did not converge. You might want to increase the number of iterations. Fitting data with very small alpha may cause precision problems.\n",
      "  ConvergenceWarning)\n",
      "//anaconda/lib/python3.5/site-packages/sklearn/linear_model/coordinate_descent.py:484: ConvergenceWarning: Objective did not converge. You might want to increase the number of iterations. Fitting data with very small alpha may cause precision problems.\n",
      "  ConvergenceWarning)\n",
      "//anaconda/lib/python3.5/site-packages/sklearn/linear_model/coordinate_descent.py:484: ConvergenceWarning: Objective did not converge. You might want to increase the number of iterations. Fitting data with very small alpha may cause precision problems.\n",
      "  ConvergenceWarning)\n",
      "//anaconda/lib/python3.5/site-packages/sklearn/linear_model/coordinate_descent.py:484: ConvergenceWarning: Objective did not converge. You might want to increase the number of iterations. Fitting data with very small alpha may cause precision problems.\n",
      "  ConvergenceWarning)\n",
      "//anaconda/lib/python3.5/site-packages/sklearn/linear_model/coordinate_descent.py:484: ConvergenceWarning: Objective did not converge. You might want to increase the number of iterations. Fitting data with very small alpha may cause precision problems.\n",
      "  ConvergenceWarning)\n",
      "//anaconda/lib/python3.5/site-packages/sklearn/linear_model/coordinate_descent.py:484: ConvergenceWarning: Objective did not converge. You might want to increase the number of iterations. Fitting data with very small alpha may cause precision problems.\n",
      "  ConvergenceWarning)\n",
      "//anaconda/lib/python3.5/site-packages/sklearn/linear_model/coordinate_descent.py:484: ConvergenceWarning: Objective did not converge. You might want to increase the number of iterations. Fitting data with very small alpha may cause precision problems.\n",
      "  ConvergenceWarning)\n",
      "//anaconda/lib/python3.5/site-packages/sklearn/linear_model/coordinate_descent.py:484: ConvergenceWarning: Objective did not converge. You might want to increase the number of iterations. Fitting data with very small alpha may cause precision problems.\n",
      "  ConvergenceWarning)\n"
     ]
    }
   ],
   "source": [
    "mae, mse = bootstrap(LassoCV(alphas=reg_params, cv=5), x_train_new, y_train, x_test_new, y_test)"
   ]
  },
  {
   "cell_type": "code",
   "execution_count": 14,
   "metadata": {
    "collapsed": true
   },
   "outputs": [],
   "source": [
    "add_to_df(mae, mse, df_mae, df_mse, 'ClusterDum+LassoCV')"
   ]
  },
  {
   "cell_type": "markdown",
   "metadata": {},
   "source": [
    "## Elastic Net"
   ]
  },
  {
   "cell_type": "code",
   "execution_count": 18,
   "metadata": {
    "collapsed": false
   },
   "outputs": [
    {
     "name": "stderr",
     "output_type": "stream",
     "text": [
      "//anaconda/lib/python3.5/site-packages/sklearn/linear_model/coordinate_descent.py:484: ConvergenceWarning: Objective did not converge. You might want to increase the number of iterations. Fitting data with very small alpha may cause precision problems.\n",
      "  ConvergenceWarning)\n"
     ]
    }
   ],
   "source": [
    "err = {}\n",
    "\n",
    "for alpha in [10**x for x in range(-5, 4)]:\n",
    "    for l1_ratio in np.arange(0.8, 1.8, 0.1):\n",
    "        new_model = model(ElasticNet(alpha=alpha, l1_ratio=l1_ratio), x_train_new, y_train, x_test_new, y_test)\n",
    "        new_model = new_model.fit_model()\n",
    "        err[alpha, l1_ratio]=new_model.error()"
   ]
  },
  {
   "cell_type": "code",
   "execution_count": 21,
   "metadata": {
    "collapsed": false
   },
   "outputs": [
    {
     "name": "stderr",
     "output_type": "stream",
     "text": [
      "//anaconda/lib/python3.5/site-packages/ipykernel/__main__.py:3: FutureWarning: sort(columns=....) is deprecated, use sort_values(by=.....)\n",
      "  app.launch_new_instance()\n"
     ]
    },
    {
     "data": {
      "text/html": [
       "<div>\n",
       "<table border=\"1\" class=\"dataframe\">\n",
       "  <thead>\n",
       "    <tr style=\"text-align: right;\">\n",
       "      <th></th>\n",
       "      <th>mae_test</th>\n",
       "      <th>mse_test</th>\n",
       "      <th>mae_train</th>\n",
       "      <th>mse_train</th>\n",
       "    </tr>\n",
       "  </thead>\n",
       "  <tbody>\n",
       "    <tr>\n",
       "      <th>(0.0001, 0.9)</th>\n",
       "      <td>20.097138</td>\n",
       "      <td>960.111965</td>\n",
       "      <td>19.581966</td>\n",
       "      <td>952.879046</td>\n",
       "    </tr>\n",
       "    <tr>\n",
       "      <th>(1e-05, 1.1)</th>\n",
       "      <td>20.098504</td>\n",
       "      <td>960.268454</td>\n",
       "      <td>19.585478</td>\n",
       "      <td>952.859024</td>\n",
       "    </tr>\n",
       "    <tr>\n",
       "      <th>(1e-05, 1.0)</th>\n",
       "      <td>20.099373</td>\n",
       "      <td>960.254115</td>\n",
       "      <td>19.585451</td>\n",
       "      <td>952.858926</td>\n",
       "    </tr>\n",
       "    <tr>\n",
       "      <th>(1e-05, 0.9)</th>\n",
       "      <td>20.100175</td>\n",
       "      <td>960.241304</td>\n",
       "      <td>19.585331</td>\n",
       "      <td>952.859170</td>\n",
       "    </tr>\n",
       "    <tr>\n",
       "      <th>(0.01, 1.0)</th>\n",
       "      <td>20.100260</td>\n",
       "      <td>959.838480</td>\n",
       "      <td>19.603085</td>\n",
       "      <td>954.246985</td>\n",
       "    </tr>\n",
       "  </tbody>\n",
       "</table>\n",
       "</div>"
      ],
      "text/plain": [
       "                mae_test    mse_test  mae_train   mse_train\n",
       "(0.0001, 0.9)  20.097138  960.111965  19.581966  952.879046\n",
       "(1e-05, 1.1)   20.098504  960.268454  19.585478  952.859024\n",
       "(1e-05, 1.0)   20.099373  960.254115  19.585451  952.858926\n",
       "(1e-05, 0.9)   20.100175  960.241304  19.585331  952.859170\n",
       "(0.01, 1.0)    20.100260  959.838480  19.603085  954.246985"
      ]
     },
     "execution_count": 21,
     "metadata": {},
     "output_type": "execute_result"
    }
   ],
   "source": [
    "err_df = pd.DataFrame.from_dict(err, orient='index')\n",
    "err_df.columns = [\"mae_test\", \"mse_test\", \"mae_train\", \"mse_train\"]\n",
    "err_df.sort(['mae_test','mae_test']).head()"
   ]
  },
  {
   "cell_type": "code",
   "execution_count": 22,
   "metadata": {
    "collapsed": false
   },
   "outputs": [
    {
     "name": "stderr",
     "output_type": "stream",
     "text": [
      "//anaconda/lib/python3.5/site-packages/sklearn/linear_model/coordinate_descent.py:484: ConvergenceWarning: Objective did not converge. You might want to increase the number of iterations. Fitting data with very small alpha may cause precision problems.\n",
      "  ConvergenceWarning)\n"
     ]
    }
   ],
   "source": [
    "mae, mse = bootstrap(ElasticNet(alpha=0.0001, l1_ratio=0.9), x_train_new, y_train, x_test_new, y_test)"
   ]
  },
  {
   "cell_type": "code",
   "execution_count": 23,
   "metadata": {
    "collapsed": false
   },
   "outputs": [],
   "source": [
    "add_to_df(mae, mse, df_mae, df_mse, 'ClusterDum+ElasticNet')"
   ]
  },
  {
   "cell_type": "markdown",
   "metadata": {},
   "source": [
    "## BayesianRidge"
   ]
  },
  {
   "cell_type": "code",
   "execution_count": 27,
   "metadata": {
    "collapsed": true
   },
   "outputs": [],
   "source": [
    "params_l = [10**x for x in range(-6, 2)]\n",
    "params_s = [10**x for x in range(-13, -5)]\n",
    "params = [10**x for x in range(-9, -1)]\n",
    "\n",
    "err = {}\n",
    "\n",
    "for a1 in params_l:\n",
    "    for a2 in params_s:\n",
    "        for lam1 in params_s:\n",
    "            for lam2 in params_l:\n",
    "                new_model = model(BayesianRidge(alpha_1=a1, alpha_2=a2, lambda_1=lam1, lambda_2=lam2), x_train_new, y_train, x_test_new, y_test)\n",
    "                new_model = new_model.fit_model()\n",
    "                err[a1, a2, lam1, lam2]=new_model.error()"
   ]
  },
  {
   "cell_type": "code",
   "execution_count": 28,
   "metadata": {
    "collapsed": false,
    "scrolled": true
   },
   "outputs": [
    {
     "name": "stderr",
     "output_type": "stream",
     "text": [
      "//anaconda/lib/python3.5/site-packages/ipykernel/__main__.py:3: FutureWarning: sort(columns=....) is deprecated, use sort_values(by=.....)\n",
      "  app.launch_new_instance()\n"
     ]
    },
    {
     "data": {
      "text/html": [
       "<div>\n",
       "<table border=\"1\" class=\"dataframe\">\n",
       "  <thead>\n",
       "    <tr style=\"text-align: right;\">\n",
       "      <th></th>\n",
       "      <th>mae_test</th>\n",
       "      <th>mse_test</th>\n",
       "      <th>mae_train</th>\n",
       "      <th>mse_train</th>\n",
       "    </tr>\n",
       "  </thead>\n",
       "  <tbody>\n",
       "    <tr>\n",
       "      <th>(10, 1e-08, 1e-12, 10)</th>\n",
       "      <td>20.117045</td>\n",
       "      <td>959.694519</td>\n",
       "      <td>19.596052</td>\n",
       "      <td>953.577098</td>\n",
       "    </tr>\n",
       "    <tr>\n",
       "      <th>(10, 1e-06, 1e-12, 10)</th>\n",
       "      <td>20.117045</td>\n",
       "      <td>959.694519</td>\n",
       "      <td>19.596052</td>\n",
       "      <td>953.577098</td>\n",
       "    </tr>\n",
       "    <tr>\n",
       "      <th>(10, 1e-13, 1e-13, 10)</th>\n",
       "      <td>20.117045</td>\n",
       "      <td>959.694519</td>\n",
       "      <td>19.596052</td>\n",
       "      <td>953.577098</td>\n",
       "    </tr>\n",
       "    <tr>\n",
       "      <th>(10, 1e-10, 1e-13, 10)</th>\n",
       "      <td>20.117045</td>\n",
       "      <td>959.694519</td>\n",
       "      <td>19.596052</td>\n",
       "      <td>953.577098</td>\n",
       "    </tr>\n",
       "    <tr>\n",
       "      <th>(10, 1e-11, 1e-13, 10)</th>\n",
       "      <td>20.117045</td>\n",
       "      <td>959.694519</td>\n",
       "      <td>19.596052</td>\n",
       "      <td>953.577098</td>\n",
       "    </tr>\n",
       "  </tbody>\n",
       "</table>\n",
       "</div>"
      ],
      "text/plain": [
       "                         mae_test    mse_test  mae_train   mse_train\n",
       "(10, 1e-08, 1e-12, 10)  20.117045  959.694519  19.596052  953.577098\n",
       "(10, 1e-06, 1e-12, 10)  20.117045  959.694519  19.596052  953.577098\n",
       "(10, 1e-13, 1e-13, 10)  20.117045  959.694519  19.596052  953.577098\n",
       "(10, 1e-10, 1e-13, 10)  20.117045  959.694519  19.596052  953.577098\n",
       "(10, 1e-11, 1e-13, 10)  20.117045  959.694519  19.596052  953.577098"
      ]
     },
     "execution_count": 28,
     "metadata": {},
     "output_type": "execute_result"
    }
   ],
   "source": [
    "err_df = pd.DataFrame.from_dict(err, orient='index')\n",
    "err_df.columns = [\"mae_test\", \"mse_test\", \"mae_train\", \"mse_train\"]\n",
    "err_df.sort(['mae_test','mae_test']).head()"
   ]
  },
  {
   "cell_type": "code",
   "execution_count": 29,
   "metadata": {
    "collapsed": true
   },
   "outputs": [],
   "source": [
    "mae, mse = bootstrap(BayesianRidge(alpha_1=10, alpha_2=1e-8, lambda_1=1e-12, lambda_2=10), x_train_new, y_train, x_test_new, y_test)"
   ]
  },
  {
   "cell_type": "code",
   "execution_count": 30,
   "metadata": {
    "collapsed": true
   },
   "outputs": [],
   "source": [
    "add_to_df(mae, mse, df_mae, df_mse, 'Bayesian Ridge')"
   ]
  },
  {
   "cell_type": "markdown",
   "metadata": {},
   "source": [
    "# Cluster + Linear regression 1"
   ]
  },
  {
   "cell_type": "code",
   "execution_count": 103,
   "metadata": {
    "collapsed": false
   },
   "outputs": [],
   "source": [
    "clu_feature = ['zipcode']\n",
    "reg_feature = list(set(x_train.columns).difference(set(clu_feature)))"
   ]
  },
  {
   "cell_type": "code",
   "execution_count": 104,
   "metadata": {
    "collapsed": true
   },
   "outputs": [],
   "source": [
    "def extract_clu_member(i, labels):\n",
    "    member = []\n",
    "    for ix, it in enumerate(labels):\n",
    "        if it == i:\n",
    "            member.append(ix)\n",
    "    return member"
   ]
  },
  {
   "cell_type": "code",
   "execution_count": 105,
   "metadata": {
    "collapsed": true
   },
   "outputs": [],
   "source": [
    "class model_2:\n",
    "    \n",
    "    def __init__(self, model, x_train, y_train, x_test, y_test, clu_feature, reg_feature, k=4):\n",
    "        self.model = model\n",
    "        self.x_train_clu = x_train[clu_feature]\n",
    "        self.x_train_reg = x_train[reg_feature]\n",
    "        self.y_train = y_train\n",
    "        self.x_test_clu = x_test[clu_feature]\n",
    "        self.x_test_reg = x_test[reg_feature]\n",
    "        self.y_test = y_test\n",
    "        self.k = k\n",
    "        \n",
    "        self.reg_model = [None]*k\n",
    "        self.x_train_clued = [None]*k\n",
    "        self.y_train_clued = [None]*k\n",
    "        self.x_test_clued = [None]*k\n",
    "        self.y_test_clued = [None]*k\n",
    "        self.y_pred_train=np.zeros(0)\n",
    "        self.y_pred_test=np.zeros(0)\n",
    "        self.y_train_concat = np.zeros(0)\n",
    "        self.y_test_concat = np.zeros(0)\n",
    "        \n",
    "        \n",
    "    def fit_model_2(self):\n",
    "        kmeans = KMeans(n_clusters=self.k, random_state=0).fit(self.x_train_clu)\n",
    "        for i in range(self.k):\n",
    "            clu_mem = extract_clu_member(i, kmeans.labels_)\n",
    "            self.x_train_clued[i] = self.x_train_reg.iloc[clu_mem]\n",
    "            self.y_train_clued[i] = self.y_train.iloc[clu_mem]\n",
    "            \n",
    "            clu_mem = extract_clu_member(i, kmeans.predict(self.x_test_clu))\n",
    "            self.x_test_clued[i] = self.x_test_reg.iloc[clu_mem]\n",
    "            self.y_test_clued[i] = self.y_test.iloc[clu_mem]\n",
    "            \n",
    "            self.reg_model[i] = model(self.model, self.x_train_clued[i], self.y_train_clued[i], self.x_test_clued[i], self.y_test_clued[i])\n",
    "            self.reg_model[i].fit_model()\n",
    "            \n",
    "            self.y_pred_train = np.concatenate((self.y_pred_train, self.reg_model[i].y_pred_train))\n",
    "            self.y_pred_test= np.concatenate((self.y_pred_test, self.reg_model[i].y_pred_test))\n",
    "            self.y_train_concat= np.concatenate((self.y_train_concat, self.y_train_clued[i].as_matrix()))\n",
    "            self.y_test_concat= np.concatenate((self.y_test_concat, self.y_test_clued[i].as_matrix()))\n",
    "        return self\n",
    "    \n",
    "    def error_2(self):\n",
    "        mae_train = metrics.median_absolute_error(self.y_pred_train, self.y_train_concat)\n",
    "        mae_test = metrics.median_absolute_error(self.y_pred_test, self.y_test_concat)\n",
    "        mse_train = metrics.mean_squared_error(self.y_pred_train, self.y_train_concat)\n",
    "        mse_test = metrics.mean_squared_error(self.y_pred_test, self.y_test_concat)\n",
    "        return mae_test, mse_test, mae_train, mse_train"
   ]
  },
  {
   "cell_type": "code",
   "execution_count": 106,
   "metadata": {
    "collapsed": true
   },
   "outputs": [],
   "source": [
    "def bootstrap_2(algo, x_train, y_train, x_test, y_test, clu_feature, reg_feature, B=50):\n",
    "    mae_test = np.zeros(B)\n",
    "    mse_test = np.zeros(B)\n",
    "    for i in range(B):\n",
    "        x_train_b, y_train_b = resample(x_train, y_train)\n",
    "        new_model = model_2(algo, x_train_b, y_train_b, x_test, y_test, clu_feature, reg_feature)\n",
    "        new_model = new_model.fit_model_2()\n",
    "        err = new_model.error_2()\n",
    "        mae_test[i] = err[0]\n",
    "        mse_test[i] = err[1]\n",
    "    return mae_test, mse_test"
   ]
  },
  {
   "cell_type": "markdown",
   "metadata": {},
   "source": [
    "## RidgeCV"
   ]
  },
  {
   "cell_type": "code",
   "execution_count": 107,
   "metadata": {
    "collapsed": false
   },
   "outputs": [],
   "source": [
    "mae, mse = bootstrap_2(RidgeCV(alphas=reg_params, cv=5), x_train, y_train, x_test, y_test, clu_feature, reg_feature, B=50)"
   ]
  },
  {
   "cell_type": "code",
   "execution_count": 108,
   "metadata": {
    "collapsed": true
   },
   "outputs": [],
   "source": [
    "add_to_df(mae, mse, df_mae, df_mse, 'Cluster+RidgeCV')"
   ]
  },
  {
   "cell_type": "markdown",
   "metadata": {},
   "source": [
    "## LassoCV"
   ]
  },
  {
   "cell_type": "code",
   "execution_count": 117,
   "metadata": {
    "collapsed": true
   },
   "outputs": [
    {
     "name": "stderr",
     "output_type": "stream",
     "text": [
      "//anaconda/lib/python3.5/site-packages/sklearn/linear_model/coordinate_descent.py:484: ConvergenceWarning: Objective did not converge. You might want to increase the number of iterations. Fitting data with very small alpha may cause precision problems.\n",
      "  ConvergenceWarning)\n",
      "//anaconda/lib/python3.5/site-packages/sklearn/linear_model/coordinate_descent.py:484: ConvergenceWarning: Objective did not converge. You might want to increase the number of iterations. Fitting data with very small alpha may cause precision problems.\n",
      "  ConvergenceWarning)\n",
      "//anaconda/lib/python3.5/site-packages/sklearn/linear_model/coordinate_descent.py:484: ConvergenceWarning: Objective did not converge. You might want to increase the number of iterations. Fitting data with very small alpha may cause precision problems.\n",
      "  ConvergenceWarning)\n",
      "//anaconda/lib/python3.5/site-packages/sklearn/linear_model/coordinate_descent.py:484: ConvergenceWarning: Objective did not converge. You might want to increase the number of iterations. Fitting data with very small alpha may cause precision problems.\n",
      "  ConvergenceWarning)\n",
      "//anaconda/lib/python3.5/site-packages/sklearn/linear_model/coordinate_descent.py:484: ConvergenceWarning: Objective did not converge. You might want to increase the number of iterations. Fitting data with very small alpha may cause precision problems.\n",
      "  ConvergenceWarning)\n",
      "//anaconda/lib/python3.5/site-packages/sklearn/linear_model/coordinate_descent.py:484: ConvergenceWarning: Objective did not converge. You might want to increase the number of iterations. Fitting data with very small alpha may cause precision problems.\n",
      "  ConvergenceWarning)\n",
      "//anaconda/lib/python3.5/site-packages/sklearn/linear_model/coordinate_descent.py:484: ConvergenceWarning: Objective did not converge. You might want to increase the number of iterations. Fitting data with very small alpha may cause precision problems.\n",
      "  ConvergenceWarning)\n",
      "//anaconda/lib/python3.5/site-packages/sklearn/linear_model/coordinate_descent.py:484: ConvergenceWarning: Objective did not converge. You might want to increase the number of iterations. Fitting data with very small alpha may cause precision problems.\n",
      "  ConvergenceWarning)\n",
      "//anaconda/lib/python3.5/site-packages/sklearn/linear_model/coordinate_descent.py:484: ConvergenceWarning: Objective did not converge. You might want to increase the number of iterations. Fitting data with very small alpha may cause precision problems.\n",
      "  ConvergenceWarning)\n",
      "//anaconda/lib/python3.5/site-packages/sklearn/linear_model/coordinate_descent.py:484: ConvergenceWarning: Objective did not converge. You might want to increase the number of iterations. Fitting data with very small alpha may cause precision problems.\n",
      "  ConvergenceWarning)\n",
      "//anaconda/lib/python3.5/site-packages/sklearn/linear_model/coordinate_descent.py:484: ConvergenceWarning: Objective did not converge. You might want to increase the number of iterations. Fitting data with very small alpha may cause precision problems.\n",
      "  ConvergenceWarning)\n",
      "//anaconda/lib/python3.5/site-packages/sklearn/linear_model/coordinate_descent.py:484: ConvergenceWarning: Objective did not converge. You might want to increase the number of iterations. Fitting data with very small alpha may cause precision problems.\n",
      "  ConvergenceWarning)\n",
      "//anaconda/lib/python3.5/site-packages/sklearn/linear_model/coordinate_descent.py:484: ConvergenceWarning: Objective did not converge. You might want to increase the number of iterations. Fitting data with very small alpha may cause precision problems.\n",
      "  ConvergenceWarning)\n",
      "//anaconda/lib/python3.5/site-packages/sklearn/linear_model/coordinate_descent.py:484: ConvergenceWarning: Objective did not converge. You might want to increase the number of iterations. Fitting data with very small alpha may cause precision problems.\n",
      "  ConvergenceWarning)\n",
      "//anaconda/lib/python3.5/site-packages/sklearn/linear_model/coordinate_descent.py:484: ConvergenceWarning: Objective did not converge. You might want to increase the number of iterations. Fitting data with very small alpha may cause precision problems.\n",
      "  ConvergenceWarning)\n",
      "//anaconda/lib/python3.5/site-packages/sklearn/linear_model/coordinate_descent.py:484: ConvergenceWarning: Objective did not converge. You might want to increase the number of iterations. Fitting data with very small alpha may cause precision problems.\n",
      "  ConvergenceWarning)\n",
      "//anaconda/lib/python3.5/site-packages/sklearn/linear_model/coordinate_descent.py:484: ConvergenceWarning: Objective did not converge. You might want to increase the number of iterations. Fitting data with very small alpha may cause precision problems.\n",
      "  ConvergenceWarning)\n",
      "//anaconda/lib/python3.5/site-packages/sklearn/linear_model/coordinate_descent.py:484: ConvergenceWarning: Objective did not converge. You might want to increase the number of iterations. Fitting data with very small alpha may cause precision problems.\n",
      "  ConvergenceWarning)\n",
      "//anaconda/lib/python3.5/site-packages/sklearn/linear_model/coordinate_descent.py:484: ConvergenceWarning: Objective did not converge. You might want to increase the number of iterations. Fitting data with very small alpha may cause precision problems.\n",
      "  ConvergenceWarning)\n",
      "//anaconda/lib/python3.5/site-packages/sklearn/linear_model/coordinate_descent.py:484: ConvergenceWarning: Objective did not converge. You might want to increase the number of iterations. Fitting data with very small alpha may cause precision problems.\n",
      "  ConvergenceWarning)\n",
      "//anaconda/lib/python3.5/site-packages/sklearn/linear_model/coordinate_descent.py:484: ConvergenceWarning: Objective did not converge. You might want to increase the number of iterations. Fitting data with very small alpha may cause precision problems.\n",
      "  ConvergenceWarning)\n",
      "//anaconda/lib/python3.5/site-packages/sklearn/linear_model/coordinate_descent.py:484: ConvergenceWarning: Objective did not converge. You might want to increase the number of iterations. Fitting data with very small alpha may cause precision problems.\n",
      "  ConvergenceWarning)\n",
      "//anaconda/lib/python3.5/site-packages/sklearn/linear_model/coordinate_descent.py:484: ConvergenceWarning: Objective did not converge. You might want to increase the number of iterations. Fitting data with very small alpha may cause precision problems.\n",
      "  ConvergenceWarning)\n",
      "//anaconda/lib/python3.5/site-packages/sklearn/linear_model/coordinate_descent.py:484: ConvergenceWarning: Objective did not converge. You might want to increase the number of iterations. Fitting data with very small alpha may cause precision problems.\n",
      "  ConvergenceWarning)\n",
      "//anaconda/lib/python3.5/site-packages/sklearn/linear_model/coordinate_descent.py:484: ConvergenceWarning: Objective did not converge. You might want to increase the number of iterations. Fitting data with very small alpha may cause precision problems.\n",
      "  ConvergenceWarning)\n",
      "//anaconda/lib/python3.5/site-packages/sklearn/linear_model/coordinate_descent.py:484: ConvergenceWarning: Objective did not converge. You might want to increase the number of iterations. Fitting data with very small alpha may cause precision problems.\n",
      "  ConvergenceWarning)\n",
      "//anaconda/lib/python3.5/site-packages/sklearn/linear_model/coordinate_descent.py:484: ConvergenceWarning: Objective did not converge. You might want to increase the number of iterations. Fitting data with very small alpha may cause precision problems.\n",
      "  ConvergenceWarning)\n",
      "//anaconda/lib/python3.5/site-packages/sklearn/linear_model/coordinate_descent.py:484: ConvergenceWarning: Objective did not converge. You might want to increase the number of iterations. Fitting data with very small alpha may cause precision problems.\n",
      "  ConvergenceWarning)\n",
      "//anaconda/lib/python3.5/site-packages/sklearn/linear_model/coordinate_descent.py:484: ConvergenceWarning: Objective did not converge. You might want to increase the number of iterations. Fitting data with very small alpha may cause precision problems.\n",
      "  ConvergenceWarning)\n",
      "//anaconda/lib/python3.5/site-packages/sklearn/linear_model/coordinate_descent.py:484: ConvergenceWarning: Objective did not converge. You might want to increase the number of iterations. Fitting data with very small alpha may cause precision problems.\n",
      "  ConvergenceWarning)\n",
      "//anaconda/lib/python3.5/site-packages/sklearn/linear_model/coordinate_descent.py:484: ConvergenceWarning: Objective did not converge. You might want to increase the number of iterations. Fitting data with very small alpha may cause precision problems.\n",
      "  ConvergenceWarning)\n",
      "//anaconda/lib/python3.5/site-packages/sklearn/linear_model/coordinate_descent.py:484: ConvergenceWarning: Objective did not converge. You might want to increase the number of iterations. Fitting data with very small alpha may cause precision problems.\n",
      "  ConvergenceWarning)\n",
      "//anaconda/lib/python3.5/site-packages/sklearn/linear_model/coordinate_descent.py:484: ConvergenceWarning: Objective did not converge. You might want to increase the number of iterations. Fitting data with very small alpha may cause precision problems.\n",
      "  ConvergenceWarning)\n",
      "//anaconda/lib/python3.5/site-packages/sklearn/linear_model/coordinate_descent.py:484: ConvergenceWarning: Objective did not converge. You might want to increase the number of iterations. Fitting data with very small alpha may cause precision problems.\n",
      "  ConvergenceWarning)\n",
      "//anaconda/lib/python3.5/site-packages/sklearn/linear_model/coordinate_descent.py:484: ConvergenceWarning: Objective did not converge. You might want to increase the number of iterations. Fitting data with very small alpha may cause precision problems.\n",
      "  ConvergenceWarning)\n",
      "//anaconda/lib/python3.5/site-packages/sklearn/linear_model/coordinate_descent.py:484: ConvergenceWarning: Objective did not converge. You might want to increase the number of iterations. Fitting data with very small alpha may cause precision problems.\n",
      "  ConvergenceWarning)\n",
      "//anaconda/lib/python3.5/site-packages/sklearn/linear_model/coordinate_descent.py:484: ConvergenceWarning: Objective did not converge. You might want to increase the number of iterations. Fitting data with very small alpha may cause precision problems.\n",
      "  ConvergenceWarning)\n",
      "//anaconda/lib/python3.5/site-packages/sklearn/linear_model/coordinate_descent.py:484: ConvergenceWarning: Objective did not converge. You might want to increase the number of iterations. Fitting data with very small alpha may cause precision problems.\n",
      "  ConvergenceWarning)\n",
      "//anaconda/lib/python3.5/site-packages/sklearn/linear_model/coordinate_descent.py:484: ConvergenceWarning: Objective did not converge. You might want to increase the number of iterations. Fitting data with very small alpha may cause precision problems.\n",
      "  ConvergenceWarning)\n",
      "//anaconda/lib/python3.5/site-packages/sklearn/linear_model/coordinate_descent.py:484: ConvergenceWarning: Objective did not converge. You might want to increase the number of iterations. Fitting data with very small alpha may cause precision problems.\n",
      "  ConvergenceWarning)\n",
      "//anaconda/lib/python3.5/site-packages/sklearn/linear_model/coordinate_descent.py:484: ConvergenceWarning: Objective did not converge. You might want to increase the number of iterations. Fitting data with very small alpha may cause precision problems.\n",
      "  ConvergenceWarning)\n",
      "//anaconda/lib/python3.5/site-packages/sklearn/linear_model/coordinate_descent.py:484: ConvergenceWarning: Objective did not converge. You might want to increase the number of iterations. Fitting data with very small alpha may cause precision problems.\n",
      "  ConvergenceWarning)\n",
      "//anaconda/lib/python3.5/site-packages/sklearn/linear_model/coordinate_descent.py:484: ConvergenceWarning: Objective did not converge. You might want to increase the number of iterations. Fitting data with very small alpha may cause precision problems.\n",
      "  ConvergenceWarning)\n",
      "//anaconda/lib/python3.5/site-packages/sklearn/linear_model/coordinate_descent.py:484: ConvergenceWarning: Objective did not converge. You might want to increase the number of iterations. Fitting data with very small alpha may cause precision problems.\n",
      "  ConvergenceWarning)\n",
      "//anaconda/lib/python3.5/site-packages/sklearn/linear_model/coordinate_descent.py:484: ConvergenceWarning: Objective did not converge. You might want to increase the number of iterations. Fitting data with very small alpha may cause precision problems.\n",
      "  ConvergenceWarning)\n",
      "//anaconda/lib/python3.5/site-packages/sklearn/linear_model/coordinate_descent.py:484: ConvergenceWarning: Objective did not converge. You might want to increase the number of iterations. Fitting data with very small alpha may cause precision problems.\n",
      "  ConvergenceWarning)\n",
      "//anaconda/lib/python3.5/site-packages/sklearn/linear_model/coordinate_descent.py:484: ConvergenceWarning: Objective did not converge. You might want to increase the number of iterations. Fitting data with very small alpha may cause precision problems.\n",
      "  ConvergenceWarning)\n",
      "//anaconda/lib/python3.5/site-packages/sklearn/linear_model/coordinate_descent.py:484: ConvergenceWarning: Objective did not converge. You might want to increase the number of iterations. Fitting data with very small alpha may cause precision problems.\n",
      "  ConvergenceWarning)\n",
      "//anaconda/lib/python3.5/site-packages/sklearn/linear_model/coordinate_descent.py:484: ConvergenceWarning: Objective did not converge. You might want to increase the number of iterations. Fitting data with very small alpha may cause precision problems.\n",
      "  ConvergenceWarning)\n",
      "//anaconda/lib/python3.5/site-packages/sklearn/linear_model/coordinate_descent.py:484: ConvergenceWarning: Objective did not converge. You might want to increase the number of iterations. Fitting data with very small alpha may cause precision problems.\n",
      "  ConvergenceWarning)\n",
      "//anaconda/lib/python3.5/site-packages/sklearn/linear_model/coordinate_descent.py:484: ConvergenceWarning: Objective did not converge. You might want to increase the number of iterations. Fitting data with very small alpha may cause precision problems.\n",
      "  ConvergenceWarning)\n",
      "//anaconda/lib/python3.5/site-packages/sklearn/linear_model/coordinate_descent.py:484: ConvergenceWarning: Objective did not converge. You might want to increase the number of iterations. Fitting data with very small alpha may cause precision problems.\n",
      "  ConvergenceWarning)\n",
      "//anaconda/lib/python3.5/site-packages/sklearn/linear_model/coordinate_descent.py:484: ConvergenceWarning: Objective did not converge. You might want to increase the number of iterations. Fitting data with very small alpha may cause precision problems.\n",
      "  ConvergenceWarning)\n",
      "//anaconda/lib/python3.5/site-packages/sklearn/linear_model/coordinate_descent.py:484: ConvergenceWarning: Objective did not converge. You might want to increase the number of iterations. Fitting data with very small alpha may cause precision problems.\n",
      "  ConvergenceWarning)\n",
      "//anaconda/lib/python3.5/site-packages/sklearn/linear_model/coordinate_descent.py:484: ConvergenceWarning: Objective did not converge. You might want to increase the number of iterations. Fitting data with very small alpha may cause precision problems.\n",
      "  ConvergenceWarning)\n",
      "//anaconda/lib/python3.5/site-packages/sklearn/linear_model/coordinate_descent.py:484: ConvergenceWarning: Objective did not converge. You might want to increase the number of iterations. Fitting data with very small alpha may cause precision problems.\n",
      "  ConvergenceWarning)\n",
      "//anaconda/lib/python3.5/site-packages/sklearn/linear_model/coordinate_descent.py:484: ConvergenceWarning: Objective did not converge. You might want to increase the number of iterations. Fitting data with very small alpha may cause precision problems.\n",
      "  ConvergenceWarning)\n",
      "//anaconda/lib/python3.5/site-packages/sklearn/linear_model/coordinate_descent.py:484: ConvergenceWarning: Objective did not converge. You might want to increase the number of iterations. Fitting data with very small alpha may cause precision problems.\n",
      "  ConvergenceWarning)\n",
      "//anaconda/lib/python3.5/site-packages/sklearn/linear_model/coordinate_descent.py:484: ConvergenceWarning: Objective did not converge. You might want to increase the number of iterations. Fitting data with very small alpha may cause precision problems.\n",
      "  ConvergenceWarning)\n",
      "//anaconda/lib/python3.5/site-packages/sklearn/linear_model/coordinate_descent.py:484: ConvergenceWarning: Objective did not converge. You might want to increase the number of iterations. Fitting data with very small alpha may cause precision problems.\n",
      "  ConvergenceWarning)\n",
      "//anaconda/lib/python3.5/site-packages/sklearn/linear_model/coordinate_descent.py:484: ConvergenceWarning: Objective did not converge. You might want to increase the number of iterations. Fitting data with very small alpha may cause precision problems.\n",
      "  ConvergenceWarning)\n",
      "//anaconda/lib/python3.5/site-packages/sklearn/linear_model/coordinate_descent.py:484: ConvergenceWarning: Objective did not converge. You might want to increase the number of iterations. Fitting data with very small alpha may cause precision problems.\n",
      "  ConvergenceWarning)\n",
      "//anaconda/lib/python3.5/site-packages/sklearn/linear_model/coordinate_descent.py:484: ConvergenceWarning: Objective did not converge. You might want to increase the number of iterations. Fitting data with very small alpha may cause precision problems.\n",
      "  ConvergenceWarning)\n",
      "//anaconda/lib/python3.5/site-packages/sklearn/linear_model/coordinate_descent.py:484: ConvergenceWarning: Objective did not converge. You might want to increase the number of iterations. Fitting data with very small alpha may cause precision problems.\n",
      "  ConvergenceWarning)\n",
      "//anaconda/lib/python3.5/site-packages/sklearn/linear_model/coordinate_descent.py:484: ConvergenceWarning: Objective did not converge. You might want to increase the number of iterations. Fitting data with very small alpha may cause precision problems.\n",
      "  ConvergenceWarning)\n",
      "//anaconda/lib/python3.5/site-packages/sklearn/linear_model/coordinate_descent.py:484: ConvergenceWarning: Objective did not converge. You might want to increase the number of iterations. Fitting data with very small alpha may cause precision problems.\n",
      "  ConvergenceWarning)\n",
      "//anaconda/lib/python3.5/site-packages/sklearn/linear_model/coordinate_descent.py:484: ConvergenceWarning: Objective did not converge. You might want to increase the number of iterations. Fitting data with very small alpha may cause precision problems.\n",
      "  ConvergenceWarning)\n",
      "//anaconda/lib/python3.5/site-packages/sklearn/linear_model/coordinate_descent.py:484: ConvergenceWarning: Objective did not converge. You might want to increase the number of iterations. Fitting data with very small alpha may cause precision problems.\n",
      "  ConvergenceWarning)\n",
      "//anaconda/lib/python3.5/site-packages/sklearn/linear_model/coordinate_descent.py:484: ConvergenceWarning: Objective did not converge. You might want to increase the number of iterations. Fitting data with very small alpha may cause precision problems.\n",
      "  ConvergenceWarning)\n",
      "//anaconda/lib/python3.5/site-packages/sklearn/linear_model/coordinate_descent.py:484: ConvergenceWarning: Objective did not converge. You might want to increase the number of iterations. Fitting data with very small alpha may cause precision problems.\n",
      "  ConvergenceWarning)\n",
      "//anaconda/lib/python3.5/site-packages/sklearn/linear_model/coordinate_descent.py:484: ConvergenceWarning: Objective did not converge. You might want to increase the number of iterations. Fitting data with very small alpha may cause precision problems.\n",
      "  ConvergenceWarning)\n",
      "//anaconda/lib/python3.5/site-packages/sklearn/linear_model/coordinate_descent.py:484: ConvergenceWarning: Objective did not converge. You might want to increase the number of iterations. Fitting data with very small alpha may cause precision problems.\n",
      "  ConvergenceWarning)\n",
      "//anaconda/lib/python3.5/site-packages/sklearn/linear_model/coordinate_descent.py:484: ConvergenceWarning: Objective did not converge. You might want to increase the number of iterations. Fitting data with very small alpha may cause precision problems.\n",
      "  ConvergenceWarning)\n",
      "//anaconda/lib/python3.5/site-packages/sklearn/linear_model/coordinate_descent.py:484: ConvergenceWarning: Objective did not converge. You might want to increase the number of iterations. Fitting data with very small alpha may cause precision problems.\n",
      "  ConvergenceWarning)\n",
      "//anaconda/lib/python3.5/site-packages/sklearn/linear_model/coordinate_descent.py:484: ConvergenceWarning: Objective did not converge. You might want to increase the number of iterations. Fitting data with very small alpha may cause precision problems.\n",
      "  ConvergenceWarning)\n",
      "//anaconda/lib/python3.5/site-packages/sklearn/linear_model/coordinate_descent.py:484: ConvergenceWarning: Objective did not converge. You might want to increase the number of iterations. Fitting data with very small alpha may cause precision problems.\n",
      "  ConvergenceWarning)\n",
      "//anaconda/lib/python3.5/site-packages/sklearn/linear_model/coordinate_descent.py:484: ConvergenceWarning: Objective did not converge. You might want to increase the number of iterations. Fitting data with very small alpha may cause precision problems.\n",
      "  ConvergenceWarning)\n",
      "//anaconda/lib/python3.5/site-packages/sklearn/linear_model/coordinate_descent.py:484: ConvergenceWarning: Objective did not converge. You might want to increase the number of iterations. Fitting data with very small alpha may cause precision problems.\n",
      "  ConvergenceWarning)\n",
      "//anaconda/lib/python3.5/site-packages/sklearn/linear_model/coordinate_descent.py:484: ConvergenceWarning: Objective did not converge. You might want to increase the number of iterations. Fitting data with very small alpha may cause precision problems.\n",
      "  ConvergenceWarning)\n",
      "//anaconda/lib/python3.5/site-packages/sklearn/linear_model/coordinate_descent.py:484: ConvergenceWarning: Objective did not converge. You might want to increase the number of iterations. Fitting data with very small alpha may cause precision problems.\n",
      "  ConvergenceWarning)\n",
      "//anaconda/lib/python3.5/site-packages/sklearn/linear_model/coordinate_descent.py:484: ConvergenceWarning: Objective did not converge. You might want to increase the number of iterations. Fitting data with very small alpha may cause precision problems.\n",
      "  ConvergenceWarning)\n",
      "//anaconda/lib/python3.5/site-packages/sklearn/linear_model/coordinate_descent.py:484: ConvergenceWarning: Objective did not converge. You might want to increase the number of iterations. Fitting data with very small alpha may cause precision problems.\n",
      "  ConvergenceWarning)\n",
      "//anaconda/lib/python3.5/site-packages/sklearn/linear_model/coordinate_descent.py:484: ConvergenceWarning: Objective did not converge. You might want to increase the number of iterations. Fitting data with very small alpha may cause precision problems.\n",
      "  ConvergenceWarning)\n",
      "//anaconda/lib/python3.5/site-packages/sklearn/linear_model/coordinate_descent.py:484: ConvergenceWarning: Objective did not converge. You might want to increase the number of iterations. Fitting data with very small alpha may cause precision problems.\n",
      "  ConvergenceWarning)\n",
      "//anaconda/lib/python3.5/site-packages/sklearn/linear_model/coordinate_descent.py:484: ConvergenceWarning: Objective did not converge. You might want to increase the number of iterations. Fitting data with very small alpha may cause precision problems.\n",
      "  ConvergenceWarning)\n",
      "//anaconda/lib/python3.5/site-packages/sklearn/linear_model/coordinate_descent.py:484: ConvergenceWarning: Objective did not converge. You might want to increase the number of iterations. Fitting data with very small alpha may cause precision problems.\n",
      "  ConvergenceWarning)\n",
      "//anaconda/lib/python3.5/site-packages/sklearn/linear_model/coordinate_descent.py:484: ConvergenceWarning: Objective did not converge. You might want to increase the number of iterations. Fitting data with very small alpha may cause precision problems.\n",
      "  ConvergenceWarning)\n",
      "//anaconda/lib/python3.5/site-packages/sklearn/linear_model/coordinate_descent.py:484: ConvergenceWarning: Objective did not converge. You might want to increase the number of iterations. Fitting data with very small alpha may cause precision problems.\n",
      "  ConvergenceWarning)\n",
      "//anaconda/lib/python3.5/site-packages/sklearn/linear_model/coordinate_descent.py:484: ConvergenceWarning: Objective did not converge. You might want to increase the number of iterations. Fitting data with very small alpha may cause precision problems.\n",
      "  ConvergenceWarning)\n",
      "//anaconda/lib/python3.5/site-packages/sklearn/linear_model/coordinate_descent.py:484: ConvergenceWarning: Objective did not converge. You might want to increase the number of iterations. Fitting data with very small alpha may cause precision problems.\n",
      "  ConvergenceWarning)\n"
     ]
    }
   ],
   "source": [
    "mae, mse = bootstrap_2(LassoCV(alphas=reg_params, cv=5), x_train, y_train, x_test, y_test, clu_feature, reg_feature)"
   ]
  },
  {
   "cell_type": "code",
   "execution_count": 118,
   "metadata": {
    "collapsed": true
   },
   "outputs": [],
   "source": [
    "add_to_df(mae, mse, df_mae, df_mse, 'Cluster+LassoCV')"
   ]
  },
  {
   "cell_type": "markdown",
   "metadata": {},
   "source": [
    "## ElasticNet"
   ]
  },
  {
   "cell_type": "code",
   "execution_count": 121,
   "metadata": {
    "collapsed": false
   },
   "outputs": [
    {
     "name": "stderr",
     "output_type": "stream",
     "text": [
      "//anaconda/lib/python3.5/site-packages/sklearn/linear_model/coordinate_descent.py:484: ConvergenceWarning: Objective did not converge. You might want to increase the number of iterations. Fitting data with very small alpha may cause precision problems.\n",
      "  ConvergenceWarning)\n"
     ]
    }
   ],
   "source": [
    "err = {}\n",
    "\n",
    "for alpha in [10**x for x in range(-5, 4)]:\n",
    "    for l1_ratio in np.arange(0.1, 1, 0.1):\n",
    "        new_model = model_2(ElasticNet(alpha=alpha, l1_ratio=l1_ratio), x_train, y_train, x_test, y_test, clu_feature, reg_feature)\n",
    "        new_model = new_model.fit_model_2()\n",
    "        err[alpha, l1_ratio]=new_model.error_2()\n"
   ]
  },
  {
   "cell_type": "code",
   "execution_count": 122,
   "metadata": {
    "collapsed": false
   },
   "outputs": [
    {
     "name": "stderr",
     "output_type": "stream",
     "text": [
      "//anaconda/lib/python3.5/site-packages/ipykernel/__main__.py:3: FutureWarning: sort(columns=....) is deprecated, use sort_values(by=.....)\n",
      "  app.launch_new_instance()\n"
     ]
    },
    {
     "data": {
      "text/html": [
       "<div>\n",
       "<table border=\"1\" class=\"dataframe\">\n",
       "  <thead>\n",
       "    <tr style=\"text-align: right;\">\n",
       "      <th></th>\n",
       "      <th>mae_test</th>\n",
       "      <th>mse_test</th>\n",
       "      <th>mae_train</th>\n",
       "      <th>mse_train</th>\n",
       "    </tr>\n",
       "  </thead>\n",
       "  <tbody>\n",
       "    <tr>\n",
       "      <th>(0.01, 0.7)</th>\n",
       "      <td>19.674910</td>\n",
       "      <td>949.878388</td>\n",
       "      <td>19.376280</td>\n",
       "      <td>943.804542</td>\n",
       "    </tr>\n",
       "    <tr>\n",
       "      <th>(1e-05, 0.9)</th>\n",
       "      <td>19.702201</td>\n",
       "      <td>949.009762</td>\n",
       "      <td>19.266355</td>\n",
       "      <td>941.193038</td>\n",
       "    </tr>\n",
       "    <tr>\n",
       "      <th>(1e-05, 0.8)</th>\n",
       "      <td>19.703498</td>\n",
       "      <td>949.007759</td>\n",
       "      <td>19.266259</td>\n",
       "      <td>941.193309</td>\n",
       "    </tr>\n",
       "    <tr>\n",
       "      <th>(1e-05, 0.7)</th>\n",
       "      <td>19.704740</td>\n",
       "      <td>949.005171</td>\n",
       "      <td>19.266178</td>\n",
       "      <td>941.193721</td>\n",
       "    </tr>\n",
       "    <tr>\n",
       "      <th>(1e-05, 0.6)</th>\n",
       "      <td>19.717754</td>\n",
       "      <td>949.002605</td>\n",
       "      <td>19.266108</td>\n",
       "      <td>941.194261</td>\n",
       "    </tr>\n",
       "  </tbody>\n",
       "</table>\n",
       "</div>"
      ],
      "text/plain": [
       "               mae_test    mse_test  mae_train   mse_train\n",
       "(0.01, 0.7)   19.674910  949.878388  19.376280  943.804542\n",
       "(1e-05, 0.9)  19.702201  949.009762  19.266355  941.193038\n",
       "(1e-05, 0.8)  19.703498  949.007759  19.266259  941.193309\n",
       "(1e-05, 0.7)  19.704740  949.005171  19.266178  941.193721\n",
       "(1e-05, 0.6)  19.717754  949.002605  19.266108  941.194261"
      ]
     },
     "execution_count": 122,
     "metadata": {},
     "output_type": "execute_result"
    }
   ],
   "source": [
    "err_df = pd.DataFrame.from_dict(err, orient='index')\n",
    "err_df.columns = [\"mae_test\", \"mse_test\", \"mae_train\", \"mse_train\"]\n",
    "err_df.sort(['mae_test','mae_test']).head()"
   ]
  },
  {
   "cell_type": "code",
   "execution_count": 124,
   "metadata": {
    "collapsed": false
   },
   "outputs": [],
   "source": [
    "mae, mse = bootstrap_2(ElasticNet(alpha=0.01, l1_ratio=0.7), x_train, y_train, x_test, y_test, clu_feature, reg_feature)"
   ]
  },
  {
   "cell_type": "code",
   "execution_count": 125,
   "metadata": {
    "collapsed": true
   },
   "outputs": [],
   "source": [
    "add_to_df(mae, mse, df_mae, df_mse, 'Cluster+ElasticNet')"
   ]
  },
  {
   "cell_type": "markdown",
   "metadata": {},
   "source": [
    "## BayesRidge"
   ]
  },
  {
   "cell_type": "code",
   "execution_count": 133,
   "metadata": {
    "collapsed": true
   },
   "outputs": [],
   "source": [
    "params_l = [10**x for x in range(-6, -1)]\n",
    "params_s = [10**x for x in range(-13, -8)]"
   ]
  },
  {
   "cell_type": "code",
   "execution_count": 134,
   "metadata": {
    "collapsed": false,
    "scrolled": true
   },
   "outputs": [],
   "source": [
    "err = {}\n",
    "\n",
    "for a1 in params_s:\n",
    "    for a2 in params_l:\n",
    "        for lam1 in params_l:\n",
    "            for lam2 in params_s:\n",
    "                new_model = model_2(BayesianRidge(alpha_1=a1, alpha_2=a2, lambda_1=lam1, lambda_2=lam2), x_train, y_train, x_test, y_test, clu_feature, reg_feature)\n",
    "                new_model = new_model.fit_model_2()\n",
    "                err[a1, a2, lam1, lam2]=new_model.error_2()"
   ]
  },
  {
   "cell_type": "code",
   "execution_count": 135,
   "metadata": {
    "collapsed": false
   },
   "outputs": [
    {
     "name": "stderr",
     "output_type": "stream",
     "text": [
      "//anaconda/lib/python3.5/site-packages/ipykernel/__main__.py:3: FutureWarning: sort(columns=....) is deprecated, use sort_values(by=.....)\n",
      "  app.launch_new_instance()\n"
     ]
    },
    {
     "data": {
      "text/html": [
       "<div>\n",
       "<table border=\"1\" class=\"dataframe\">\n",
       "  <thead>\n",
       "    <tr style=\"text-align: right;\">\n",
       "      <th></th>\n",
       "      <th>mae_test</th>\n",
       "      <th>mse_test</th>\n",
       "      <th>mae_train</th>\n",
       "      <th>mse_train</th>\n",
       "    </tr>\n",
       "  </thead>\n",
       "  <tbody>\n",
       "    <tr>\n",
       "      <th>(1e-12, 0.01, 0.01, 1e-12)</th>\n",
       "      <td>19.767728</td>\n",
       "      <td>948.799921</td>\n",
       "      <td>19.341457</td>\n",
       "      <td>942.787457</td>\n",
       "    </tr>\n",
       "    <tr>\n",
       "      <th>(1e-12, 0.01, 0.01, 1e-13)</th>\n",
       "      <td>19.767728</td>\n",
       "      <td>948.799921</td>\n",
       "      <td>19.341457</td>\n",
       "      <td>942.787457</td>\n",
       "    </tr>\n",
       "    <tr>\n",
       "      <th>(1e-13, 0.01, 0.01, 1e-13)</th>\n",
       "      <td>19.767728</td>\n",
       "      <td>948.799921</td>\n",
       "      <td>19.341457</td>\n",
       "      <td>942.787457</td>\n",
       "    </tr>\n",
       "    <tr>\n",
       "      <th>(1e-13, 0.01, 0.01, 1e-11)</th>\n",
       "      <td>19.767728</td>\n",
       "      <td>948.799921</td>\n",
       "      <td>19.341457</td>\n",
       "      <td>942.787457</td>\n",
       "    </tr>\n",
       "    <tr>\n",
       "      <th>(1e-11, 0.01, 0.01, 1e-12)</th>\n",
       "      <td>19.767728</td>\n",
       "      <td>948.799921</td>\n",
       "      <td>19.341457</td>\n",
       "      <td>942.787457</td>\n",
       "    </tr>\n",
       "  </tbody>\n",
       "</table>\n",
       "</div>"
      ],
      "text/plain": [
       "                             mae_test    mse_test  mae_train   mse_train\n",
       "(1e-12, 0.01, 0.01, 1e-12)  19.767728  948.799921  19.341457  942.787457\n",
       "(1e-12, 0.01, 0.01, 1e-13)  19.767728  948.799921  19.341457  942.787457\n",
       "(1e-13, 0.01, 0.01, 1e-13)  19.767728  948.799921  19.341457  942.787457\n",
       "(1e-13, 0.01, 0.01, 1e-11)  19.767728  948.799921  19.341457  942.787457\n",
       "(1e-11, 0.01, 0.01, 1e-12)  19.767728  948.799921  19.341457  942.787457"
      ]
     },
     "execution_count": 135,
     "metadata": {},
     "output_type": "execute_result"
    }
   ],
   "source": [
    "err_df = pd.DataFrame.from_dict(err, orient='index')\n",
    "err_df.columns = [\"mae_test\", \"mse_test\", \"mae_train\", \"mse_train\"]\n",
    "err_df.sort(['mae_test','mae_test']).head()"
   ]
  },
  {
   "cell_type": "code",
   "execution_count": 139,
   "metadata": {
    "collapsed": false
   },
   "outputs": [],
   "source": [
    "mae, mse = bootstrap_2(BayesianRidge(alpha_1=1e-12, alpha_2=0.01, lambda_1=0.01, lambda_2=1e-12), x_train, y_train, x_test, y_test, clu_feature, reg_feature)"
   ]
  },
  {
   "cell_type": "code",
   "execution_count": 140,
   "metadata": {
    "collapsed": true
   },
   "outputs": [],
   "source": [
    "add_to_df(mae, mse, df_mae, df_mse, 'Cluster+BayesianRidge')"
   ]
  },
  {
   "cell_type": "markdown",
   "metadata": {},
   "source": [
    "# Cluster + Linear regression 2"
   ]
  },
  {
   "cell_type": "code",
   "execution_count": 51,
   "metadata": {
    "collapsed": true
   },
   "outputs": [],
   "source": [
    "x_train_reg = x_train.iloc[:,1:]\n",
    "x_test_reg = x_test.iloc[:,1:]"
   ]
  },
  {
   "cell_type": "code",
   "execution_count": 8,
   "metadata": {
    "collapsed": true
   },
   "outputs": [],
   "source": [
    "kmeans_tr = KMeans(n_clusters=5).fit(x_train[['zipcode']])\n",
    "cluster_tr = pd.get_dummies(kmeans_tr.labels_)\n",
    "cluster_te = pd.get_dummies(kmeans_tr.predict(x_test[['zipcode']]))\n",
    "x_train_new = pd.concat([x_train_reg, cluster_tr], axis=1)\n",
    "x_test_new = pd.concat([x_test_reg, cluster_te], axis=1)"
   ]
  },
  {
   "cell_type": "code",
   "execution_count": null,
   "metadata": {
    "collapsed": true
   },
   "outputs": [],
   "source": []
  },
  {
   "cell_type": "markdown",
   "metadata": {},
   "source": [
    "# Random Forest Regressor"
   ]
  },
  {
   "cell_type": "code",
   "execution_count": 151,
   "metadata": {
    "collapsed": false
   },
   "outputs": [],
   "source": [
    "from sklearn.ensemble import RandomForestRegressor\n",
    "\n",
    "def random_forest_model(x, y):\n",
    "    best_score = 0\n",
    "    best_depth = 0\n",
    "    # tune for tree depth from 1 to 20\n",
    "    for j in range(1, 21):\n",
    "        rf = RandomForestRegressor(n_estimators=100, max_depth=j, oob_score=True)\n",
    "        rf.fit(x, y)\n",
    "        score = rf.score(x, y)\n",
    "        score = rf.oob_score_\n",
    "        if score > best_score:\n",
    "            best_score = score\n",
    "            best_depth = j\n",
    "    return best_score, best_depth\n",
    "\n",
    "def random_forest_tuned(best_depth, x_train, x_test, y_train, y_test):\n",
    "    rf = RandomForestRegressor(n_estimators=100, max_depth=best_depth)\n",
    "    rf.fit(x_train, y_train)\n",
    "    y_pred_test = rf.predict(x_test)\n",
    "    y_pred_train = rf.predict(x_train)\n",
    "    \n",
    "    mae_train = metrics.median_absolute_error(y_pred_train, y_train)\n",
    "    mse_train = metrics.mean_squared_error(y_pred_train, y_train)\n",
    "    mae_test = metrics.median_absolute_error(y_pred_test, y_test)\n",
    "    mse_test = metrics.mean_squared_error(y_pred_test, y_test)\n",
    "    \n",
    "    return mae_test, mse_test, mae_train, mse_train\n",
    "    \n",
    "    "
   ]
  },
  {
   "cell_type": "code",
   "execution_count": 152,
   "metadata": {
    "collapsed": false
   },
   "outputs": [],
   "source": [
    "rf_values = random_forest_model(x_train, y_train)"
   ]
  },
  {
   "cell_type": "code",
   "execution_count": 153,
   "metadata": {
    "collapsed": false
   },
   "outputs": [
    {
     "data": {
      "text/plain": [
       "13"
      ]
     },
     "execution_count": 153,
     "metadata": {},
     "output_type": "execute_result"
    }
   ],
   "source": [
    "dep = rf_values[1]\n",
    "dep"
   ]
  },
  {
   "cell_type": "code",
   "execution_count": 154,
   "metadata": {
    "collapsed": false
   },
   "outputs": [
    {
     "data": {
      "text/plain": [
       "(16.638008456792832,\n",
       " 769.98080225720309,\n",
       " 12.770363165113242,\n",
       " 423.68982858467746)"
      ]
     },
     "execution_count": 154,
     "metadata": {},
     "output_type": "execute_result"
    }
   ],
   "source": [
    "random_forest_tuned(dep, x_train, x_test, y_train, y_test)"
   ]
  },
  {
   "cell_type": "code",
   "execution_count": 155,
   "metadata": {
    "collapsed": false
   },
   "outputs": [],
   "source": [
    "B = 50\n",
    "mae_test = np.zeros(B)\n",
    "mse_test = np.zeros(B)\n",
    "\n",
    "for i in range(B):\n",
    "    x_train_b, y_train_b = resample(x_train, y_train)\n",
    "    err = random_forest_tuned(dep, x_train_b, x_test, y_train_b, y_test)\n",
    "    mae_test[i] = err[0]\n",
    "    mse_test[i] = err[1]"
   ]
  },
  {
   "cell_type": "code",
   "execution_count": 156,
   "metadata": {
    "collapsed": false
   },
   "outputs": [],
   "source": [
    "add_to_df(mae_test, mse_test, df_mae, df_mse, 'RandomForest')"
   ]
  },
  {
   "cell_type": "code",
   "execution_count": 157,
   "metadata": {
    "collapsed": false
   },
   "outputs": [
    {
     "data": {
      "text/html": [
       "<div>\n",
       "<table border=\"1\" class=\"dataframe\">\n",
       "  <thead>\n",
       "    <tr style=\"text-align: right;\">\n",
       "      <th></th>\n",
       "      <th>RidgeCV</th>\n",
       "      <th>LassoCV</th>\n",
       "      <th>Elastic Net</th>\n",
       "      <th>Bayesian Ridge</th>\n",
       "      <th>Cluster+RidgeCV</th>\n",
       "      <th>Cluster+LassoCV</th>\n",
       "      <th>Cluster+ElasticNet</th>\n",
       "      <th>Cluster+BayesianRidge</th>\n",
       "      <th>RandomForest</th>\n",
       "    </tr>\n",
       "  </thead>\n",
       "  <tbody>\n",
       "    <tr>\n",
       "      <th>0</th>\n",
       "      <td>22.502401</td>\n",
       "      <td>22.277641</td>\n",
       "      <td>22.491768</td>\n",
       "      <td>22.303621</td>\n",
       "      <td>19.808924</td>\n",
       "      <td>19.853719</td>\n",
       "      <td>19.865930</td>\n",
       "      <td>19.920144</td>\n",
       "      <td>17.214124</td>\n",
       "    </tr>\n",
       "    <tr>\n",
       "      <th>1</th>\n",
       "      <td>22.260726</td>\n",
       "      <td>22.572311</td>\n",
       "      <td>22.327935</td>\n",
       "      <td>22.387959</td>\n",
       "      <td>19.850527</td>\n",
       "      <td>19.905292</td>\n",
       "      <td>19.871863</td>\n",
       "      <td>19.711863</td>\n",
       "      <td>16.973145</td>\n",
       "    </tr>\n",
       "    <tr>\n",
       "      <th>2</th>\n",
       "      <td>22.484320</td>\n",
       "      <td>22.150640</td>\n",
       "      <td>22.225014</td>\n",
       "      <td>22.201448</td>\n",
       "      <td>19.673575</td>\n",
       "      <td>19.828611</td>\n",
       "      <td>19.865896</td>\n",
       "      <td>19.782468</td>\n",
       "      <td>16.660871</td>\n",
       "    </tr>\n",
       "    <tr>\n",
       "      <th>3</th>\n",
       "      <td>22.460174</td>\n",
       "      <td>22.462387</td>\n",
       "      <td>22.398942</td>\n",
       "      <td>22.239297</td>\n",
       "      <td>19.794686</td>\n",
       "      <td>19.683496</td>\n",
       "      <td>19.905214</td>\n",
       "      <td>19.679832</td>\n",
       "      <td>16.992076</td>\n",
       "    </tr>\n",
       "    <tr>\n",
       "      <th>4</th>\n",
       "      <td>22.347536</td>\n",
       "      <td>22.278736</td>\n",
       "      <td>22.360506</td>\n",
       "      <td>22.586287</td>\n",
       "      <td>19.602049</td>\n",
       "      <td>19.865757</td>\n",
       "      <td>19.879985</td>\n",
       "      <td>19.995347</td>\n",
       "      <td>17.163071</td>\n",
       "    </tr>\n",
       "    <tr>\n",
       "      <th>5</th>\n",
       "      <td>22.415236</td>\n",
       "      <td>22.172011</td>\n",
       "      <td>22.288880</td>\n",
       "      <td>22.363778</td>\n",
       "      <td>19.830526</td>\n",
       "      <td>19.827931</td>\n",
       "      <td>19.976835</td>\n",
       "      <td>19.764557</td>\n",
       "      <td>16.816460</td>\n",
       "    </tr>\n",
       "    <tr>\n",
       "      <th>6</th>\n",
       "      <td>22.433290</td>\n",
       "      <td>22.424421</td>\n",
       "      <td>22.413970</td>\n",
       "      <td>22.352696</td>\n",
       "      <td>20.039252</td>\n",
       "      <td>19.839518</td>\n",
       "      <td>19.914018</td>\n",
       "      <td>19.768828</td>\n",
       "      <td>17.008459</td>\n",
       "    </tr>\n",
       "    <tr>\n",
       "      <th>7</th>\n",
       "      <td>22.406611</td>\n",
       "      <td>22.101011</td>\n",
       "      <td>22.121561</td>\n",
       "      <td>22.270664</td>\n",
       "      <td>19.900161</td>\n",
       "      <td>19.802701</td>\n",
       "      <td>19.879641</td>\n",
       "      <td>19.850070</td>\n",
       "      <td>17.195894</td>\n",
       "    </tr>\n",
       "    <tr>\n",
       "      <th>8</th>\n",
       "      <td>22.171628</td>\n",
       "      <td>22.322204</td>\n",
       "      <td>22.333176</td>\n",
       "      <td>22.358787</td>\n",
       "      <td>19.856051</td>\n",
       "      <td>19.883596</td>\n",
       "      <td>19.842464</td>\n",
       "      <td>19.840141</td>\n",
       "      <td>17.109556</td>\n",
       "    </tr>\n",
       "    <tr>\n",
       "      <th>9</th>\n",
       "      <td>22.240735</td>\n",
       "      <td>22.440242</td>\n",
       "      <td>22.288964</td>\n",
       "      <td>22.493874</td>\n",
       "      <td>19.763349</td>\n",
       "      <td>19.898675</td>\n",
       "      <td>20.007010</td>\n",
       "      <td>19.951937</td>\n",
       "      <td>17.181746</td>\n",
       "    </tr>\n",
       "    <tr>\n",
       "      <th>10</th>\n",
       "      <td>22.174360</td>\n",
       "      <td>22.299078</td>\n",
       "      <td>22.220053</td>\n",
       "      <td>22.135535</td>\n",
       "      <td>19.876890</td>\n",
       "      <td>19.830375</td>\n",
       "      <td>19.745575</td>\n",
       "      <td>19.710184</td>\n",
       "      <td>17.177099</td>\n",
       "    </tr>\n",
       "    <tr>\n",
       "      <th>11</th>\n",
       "      <td>22.197181</td>\n",
       "      <td>22.506395</td>\n",
       "      <td>22.337339</td>\n",
       "      <td>22.252397</td>\n",
       "      <td>19.806504</td>\n",
       "      <td>19.786557</td>\n",
       "      <td>19.818384</td>\n",
       "      <td>19.563858</td>\n",
       "      <td>17.066479</td>\n",
       "    </tr>\n",
       "    <tr>\n",
       "      <th>12</th>\n",
       "      <td>22.516362</td>\n",
       "      <td>22.274880</td>\n",
       "      <td>22.525669</td>\n",
       "      <td>22.473555</td>\n",
       "      <td>19.655774</td>\n",
       "      <td>19.867674</td>\n",
       "      <td>19.790481</td>\n",
       "      <td>19.771344</td>\n",
       "      <td>17.306853</td>\n",
       "    </tr>\n",
       "    <tr>\n",
       "      <th>13</th>\n",
       "      <td>22.372290</td>\n",
       "      <td>22.122645</td>\n",
       "      <td>22.217667</td>\n",
       "      <td>22.525540</td>\n",
       "      <td>19.716063</td>\n",
       "      <td>19.812233</td>\n",
       "      <td>19.916531</td>\n",
       "      <td>19.851170</td>\n",
       "      <td>17.083070</td>\n",
       "    </tr>\n",
       "    <tr>\n",
       "      <th>14</th>\n",
       "      <td>22.390616</td>\n",
       "      <td>22.570939</td>\n",
       "      <td>22.187437</td>\n",
       "      <td>22.271761</td>\n",
       "      <td>19.914233</td>\n",
       "      <td>19.930207</td>\n",
       "      <td>19.829684</td>\n",
       "      <td>19.884500</td>\n",
       "      <td>16.821923</td>\n",
       "    </tr>\n",
       "    <tr>\n",
       "      <th>15</th>\n",
       "      <td>22.273109</td>\n",
       "      <td>22.378249</td>\n",
       "      <td>22.200034</td>\n",
       "      <td>22.383006</td>\n",
       "      <td>19.710326</td>\n",
       "      <td>19.867707</td>\n",
       "      <td>19.940687</td>\n",
       "      <td>19.807189</td>\n",
       "      <td>16.972732</td>\n",
       "    </tr>\n",
       "    <tr>\n",
       "      <th>16</th>\n",
       "      <td>22.505919</td>\n",
       "      <td>22.212583</td>\n",
       "      <td>22.234895</td>\n",
       "      <td>22.415161</td>\n",
       "      <td>19.845108</td>\n",
       "      <td>19.813264</td>\n",
       "      <td>19.673983</td>\n",
       "      <td>19.841731</td>\n",
       "      <td>17.163789</td>\n",
       "    </tr>\n",
       "    <tr>\n",
       "      <th>17</th>\n",
       "      <td>22.667521</td>\n",
       "      <td>22.207817</td>\n",
       "      <td>22.159374</td>\n",
       "      <td>22.485313</td>\n",
       "      <td>19.720278</td>\n",
       "      <td>19.841390</td>\n",
       "      <td>19.859183</td>\n",
       "      <td>19.756722</td>\n",
       "      <td>16.924300</td>\n",
       "    </tr>\n",
       "    <tr>\n",
       "      <th>18</th>\n",
       "      <td>22.398848</td>\n",
       "      <td>22.220294</td>\n",
       "      <td>22.433180</td>\n",
       "      <td>22.396829</td>\n",
       "      <td>19.792381</td>\n",
       "      <td>19.884288</td>\n",
       "      <td>20.074158</td>\n",
       "      <td>19.821087</td>\n",
       "      <td>17.267851</td>\n",
       "    </tr>\n",
       "    <tr>\n",
       "      <th>19</th>\n",
       "      <td>22.478210</td>\n",
       "      <td>22.311644</td>\n",
       "      <td>22.312510</td>\n",
       "      <td>22.125146</td>\n",
       "      <td>19.870419</td>\n",
       "      <td>19.774068</td>\n",
       "      <td>19.967962</td>\n",
       "      <td>19.918022</td>\n",
       "      <td>16.835931</td>\n",
       "    </tr>\n",
       "    <tr>\n",
       "      <th>20</th>\n",
       "      <td>22.275809</td>\n",
       "      <td>22.369570</td>\n",
       "      <td>22.317692</td>\n",
       "      <td>22.352272</td>\n",
       "      <td>19.774891</td>\n",
       "      <td>19.621592</td>\n",
       "      <td>20.141519</td>\n",
       "      <td>19.767498</td>\n",
       "      <td>16.959625</td>\n",
       "    </tr>\n",
       "    <tr>\n",
       "      <th>21</th>\n",
       "      <td>22.439503</td>\n",
       "      <td>22.461799</td>\n",
       "      <td>22.220959</td>\n",
       "      <td>22.554351</td>\n",
       "      <td>19.793779</td>\n",
       "      <td>19.871948</td>\n",
       "      <td>19.893438</td>\n",
       "      <td>19.892338</td>\n",
       "      <td>16.877549</td>\n",
       "    </tr>\n",
       "    <tr>\n",
       "      <th>22</th>\n",
       "      <td>22.307809</td>\n",
       "      <td>22.536772</td>\n",
       "      <td>22.316986</td>\n",
       "      <td>22.338781</td>\n",
       "      <td>19.829526</td>\n",
       "      <td>19.749874</td>\n",
       "      <td>19.874561</td>\n",
       "      <td>19.858812</td>\n",
       "      <td>17.246732</td>\n",
       "    </tr>\n",
       "    <tr>\n",
       "      <th>23</th>\n",
       "      <td>22.507415</td>\n",
       "      <td>22.405629</td>\n",
       "      <td>22.385937</td>\n",
       "      <td>22.110725</td>\n",
       "      <td>19.747593</td>\n",
       "      <td>19.802455</td>\n",
       "      <td>19.749243</td>\n",
       "      <td>19.944089</td>\n",
       "      <td>16.952981</td>\n",
       "    </tr>\n",
       "    <tr>\n",
       "      <th>24</th>\n",
       "      <td>22.208510</td>\n",
       "      <td>22.477371</td>\n",
       "      <td>22.461848</td>\n",
       "      <td>22.428499</td>\n",
       "      <td>19.719224</td>\n",
       "      <td>19.752278</td>\n",
       "      <td>19.779857</td>\n",
       "      <td>19.889720</td>\n",
       "      <td>17.107334</td>\n",
       "    </tr>\n",
       "    <tr>\n",
       "      <th>25</th>\n",
       "      <td>22.344143</td>\n",
       "      <td>22.403699</td>\n",
       "      <td>22.372210</td>\n",
       "      <td>22.614959</td>\n",
       "      <td>19.917444</td>\n",
       "      <td>19.809159</td>\n",
       "      <td>19.835683</td>\n",
       "      <td>19.922316</td>\n",
       "      <td>17.016874</td>\n",
       "    </tr>\n",
       "    <tr>\n",
       "      <th>26</th>\n",
       "      <td>22.339237</td>\n",
       "      <td>22.124339</td>\n",
       "      <td>22.675777</td>\n",
       "      <td>22.309694</td>\n",
       "      <td>19.718414</td>\n",
       "      <td>19.920742</td>\n",
       "      <td>19.880668</td>\n",
       "      <td>19.900817</td>\n",
       "      <td>16.900103</td>\n",
       "    </tr>\n",
       "    <tr>\n",
       "      <th>27</th>\n",
       "      <td>22.135986</td>\n",
       "      <td>22.314878</td>\n",
       "      <td>22.202087</td>\n",
       "      <td>22.284770</td>\n",
       "      <td>19.709582</td>\n",
       "      <td>19.816843</td>\n",
       "      <td>19.892763</td>\n",
       "      <td>19.947473</td>\n",
       "      <td>17.049616</td>\n",
       "    </tr>\n",
       "    <tr>\n",
       "      <th>28</th>\n",
       "      <td>22.252633</td>\n",
       "      <td>22.313087</td>\n",
       "      <td>22.237546</td>\n",
       "      <td>22.363102</td>\n",
       "      <td>19.951137</td>\n",
       "      <td>19.811313</td>\n",
       "      <td>19.837059</td>\n",
       "      <td>19.785199</td>\n",
       "      <td>17.256819</td>\n",
       "    </tr>\n",
       "    <tr>\n",
       "      <th>29</th>\n",
       "      <td>22.244343</td>\n",
       "      <td>22.181087</td>\n",
       "      <td>22.281722</td>\n",
       "      <td>22.264214</td>\n",
       "      <td>20.037418</td>\n",
       "      <td>19.802750</td>\n",
       "      <td>19.870990</td>\n",
       "      <td>19.784775</td>\n",
       "      <td>17.181361</td>\n",
       "    </tr>\n",
       "    <tr>\n",
       "      <th>30</th>\n",
       "      <td>22.447176</td>\n",
       "      <td>22.478868</td>\n",
       "      <td>22.256741</td>\n",
       "      <td>22.205836</td>\n",
       "      <td>19.898231</td>\n",
       "      <td>19.796433</td>\n",
       "      <td>19.782807</td>\n",
       "      <td>19.862647</td>\n",
       "      <td>17.090744</td>\n",
       "    </tr>\n",
       "    <tr>\n",
       "      <th>31</th>\n",
       "      <td>22.234257</td>\n",
       "      <td>22.115194</td>\n",
       "      <td>22.281404</td>\n",
       "      <td>22.314710</td>\n",
       "      <td>19.732229</td>\n",
       "      <td>19.763993</td>\n",
       "      <td>19.850314</td>\n",
       "      <td>20.003331</td>\n",
       "      <td>17.150174</td>\n",
       "    </tr>\n",
       "    <tr>\n",
       "      <th>32</th>\n",
       "      <td>22.362114</td>\n",
       "      <td>22.190331</td>\n",
       "      <td>22.266590</td>\n",
       "      <td>22.294642</td>\n",
       "      <td>19.911891</td>\n",
       "      <td>19.776796</td>\n",
       "      <td>19.990129</td>\n",
       "      <td>19.785200</td>\n",
       "      <td>16.837457</td>\n",
       "    </tr>\n",
       "    <tr>\n",
       "      <th>33</th>\n",
       "      <td>22.360042</td>\n",
       "      <td>22.323231</td>\n",
       "      <td>22.472044</td>\n",
       "      <td>22.292272</td>\n",
       "      <td>19.922974</td>\n",
       "      <td>19.687712</td>\n",
       "      <td>19.895966</td>\n",
       "      <td>19.963525</td>\n",
       "      <td>16.844948</td>\n",
       "    </tr>\n",
       "    <tr>\n",
       "      <th>34</th>\n",
       "      <td>22.421483</td>\n",
       "      <td>22.426044</td>\n",
       "      <td>22.345137</td>\n",
       "      <td>22.284800</td>\n",
       "      <td>19.975393</td>\n",
       "      <td>19.776067</td>\n",
       "      <td>19.732530</td>\n",
       "      <td>19.733678</td>\n",
       "      <td>16.922276</td>\n",
       "    </tr>\n",
       "    <tr>\n",
       "      <th>35</th>\n",
       "      <td>22.144498</td>\n",
       "      <td>22.328089</td>\n",
       "      <td>22.315778</td>\n",
       "      <td>22.490963</td>\n",
       "      <td>19.764567</td>\n",
       "      <td>19.821704</td>\n",
       "      <td>19.834346</td>\n",
       "      <td>19.842700</td>\n",
       "      <td>16.943505</td>\n",
       "    </tr>\n",
       "    <tr>\n",
       "      <th>36</th>\n",
       "      <td>22.454648</td>\n",
       "      <td>22.180626</td>\n",
       "      <td>22.327951</td>\n",
       "      <td>22.557954</td>\n",
       "      <td>19.792345</td>\n",
       "      <td>19.644819</td>\n",
       "      <td>19.789927</td>\n",
       "      <td>19.595011</td>\n",
       "      <td>16.847049</td>\n",
       "    </tr>\n",
       "    <tr>\n",
       "      <th>37</th>\n",
       "      <td>22.252395</td>\n",
       "      <td>22.263177</td>\n",
       "      <td>22.333282</td>\n",
       "      <td>22.286624</td>\n",
       "      <td>19.963632</td>\n",
       "      <td>19.968036</td>\n",
       "      <td>19.881240</td>\n",
       "      <td>19.814522</td>\n",
       "      <td>17.137149</td>\n",
       "    </tr>\n",
       "    <tr>\n",
       "      <th>38</th>\n",
       "      <td>22.366919</td>\n",
       "      <td>22.473229</td>\n",
       "      <td>22.378060</td>\n",
       "      <td>22.393543</td>\n",
       "      <td>19.836715</td>\n",
       "      <td>19.880068</td>\n",
       "      <td>19.885728</td>\n",
       "      <td>19.799752</td>\n",
       "      <td>16.868457</td>\n",
       "    </tr>\n",
       "    <tr>\n",
       "      <th>39</th>\n",
       "      <td>22.514748</td>\n",
       "      <td>22.230191</td>\n",
       "      <td>22.382087</td>\n",
       "      <td>22.434265</td>\n",
       "      <td>19.743435</td>\n",
       "      <td>19.804217</td>\n",
       "      <td>19.600901</td>\n",
       "      <td>19.987989</td>\n",
       "      <td>16.918012</td>\n",
       "    </tr>\n",
       "    <tr>\n",
       "      <th>40</th>\n",
       "      <td>22.109528</td>\n",
       "      <td>22.363798</td>\n",
       "      <td>22.303950</td>\n",
       "      <td>22.286442</td>\n",
       "      <td>19.775041</td>\n",
       "      <td>19.632891</td>\n",
       "      <td>19.803171</td>\n",
       "      <td>20.048183</td>\n",
       "      <td>17.324292</td>\n",
       "    </tr>\n",
       "    <tr>\n",
       "      <th>41</th>\n",
       "      <td>22.402035</td>\n",
       "      <td>22.234580</td>\n",
       "      <td>22.424444</td>\n",
       "      <td>22.453172</td>\n",
       "      <td>19.750062</td>\n",
       "      <td>19.842586</td>\n",
       "      <td>19.998897</td>\n",
       "      <td>20.075285</td>\n",
       "      <td>17.103169</td>\n",
       "    </tr>\n",
       "    <tr>\n",
       "      <th>42</th>\n",
       "      <td>22.425946</td>\n",
       "      <td>22.339910</td>\n",
       "      <td>22.381140</td>\n",
       "      <td>22.146177</td>\n",
       "      <td>19.872308</td>\n",
       "      <td>19.933588</td>\n",
       "      <td>19.683320</td>\n",
       "      <td>20.001127</td>\n",
       "      <td>17.006724</td>\n",
       "    </tr>\n",
       "    <tr>\n",
       "      <th>43</th>\n",
       "      <td>22.599292</td>\n",
       "      <td>22.240930</td>\n",
       "      <td>22.466906</td>\n",
       "      <td>22.399196</td>\n",
       "      <td>19.999475</td>\n",
       "      <td>19.781352</td>\n",
       "      <td>19.803664</td>\n",
       "      <td>19.779703</td>\n",
       "      <td>17.370982</td>\n",
       "    </tr>\n",
       "    <tr>\n",
       "      <th>44</th>\n",
       "      <td>22.425105</td>\n",
       "      <td>22.246583</td>\n",
       "      <td>22.225364</td>\n",
       "      <td>22.140150</td>\n",
       "      <td>19.775677</td>\n",
       "      <td>19.677037</td>\n",
       "      <td>19.986108</td>\n",
       "      <td>19.902809</td>\n",
       "      <td>16.872692</td>\n",
       "    </tr>\n",
       "    <tr>\n",
       "      <th>45</th>\n",
       "      <td>22.318086</td>\n",
       "      <td>22.257136</td>\n",
       "      <td>22.380500</td>\n",
       "      <td>22.540802</td>\n",
       "      <td>19.700474</td>\n",
       "      <td>19.805836</td>\n",
       "      <td>19.798362</td>\n",
       "      <td>19.943336</td>\n",
       "      <td>17.225930</td>\n",
       "    </tr>\n",
       "    <tr>\n",
       "      <th>46</th>\n",
       "      <td>22.381166</td>\n",
       "      <td>22.338439</td>\n",
       "      <td>22.439687</td>\n",
       "      <td>22.318095</td>\n",
       "      <td>19.745765</td>\n",
       "      <td>19.845331</td>\n",
       "      <td>19.793436</td>\n",
       "      <td>19.829415</td>\n",
       "      <td>16.826994</td>\n",
       "    </tr>\n",
       "    <tr>\n",
       "      <th>47</th>\n",
       "      <td>22.493190</td>\n",
       "      <td>22.380461</td>\n",
       "      <td>22.356459</td>\n",
       "      <td>22.273277</td>\n",
       "      <td>19.909203</td>\n",
       "      <td>19.937071</td>\n",
       "      <td>19.800769</td>\n",
       "      <td>19.953520</td>\n",
       "      <td>16.900733</td>\n",
       "    </tr>\n",
       "    <tr>\n",
       "      <th>48</th>\n",
       "      <td>22.298383</td>\n",
       "      <td>22.281836</td>\n",
       "      <td>22.327613</td>\n",
       "      <td>22.284839</td>\n",
       "      <td>19.899932</td>\n",
       "      <td>19.937181</td>\n",
       "      <td>19.896484</td>\n",
       "      <td>19.930980</td>\n",
       "      <td>17.110881</td>\n",
       "    </tr>\n",
       "    <tr>\n",
       "      <th>49</th>\n",
       "      <td>22.539559</td>\n",
       "      <td>22.296737</td>\n",
       "      <td>22.405401</td>\n",
       "      <td>22.150928</td>\n",
       "      <td>19.634084</td>\n",
       "      <td>19.879533</td>\n",
       "      <td>19.956501</td>\n",
       "      <td>19.867233</td>\n",
       "      <td>16.943516</td>\n",
       "    </tr>\n",
       "    <tr>\n",
       "      <th>50</th>\n",
       "      <td>22.366061</td>\n",
       "      <td>22.317675</td>\n",
       "      <td>22.332444</td>\n",
       "      <td>22.343854</td>\n",
       "      <td>19.816590</td>\n",
       "      <td>19.818965</td>\n",
       "      <td>19.862917</td>\n",
       "      <td>19.852080</td>\n",
       "      <td>17.034602</td>\n",
       "    </tr>\n",
       "    <tr>\n",
       "      <th>51</th>\n",
       "      <td>0.123728</td>\n",
       "      <td>0.120029</td>\n",
       "      <td>0.101693</td>\n",
       "      <td>0.124526</td>\n",
       "      <td>0.100976</td>\n",
       "      <td>0.078092</td>\n",
       "      <td>0.096514</td>\n",
       "      <td>0.104978</td>\n",
       "      <td>0.158521</td>\n",
       "    </tr>\n",
       "  </tbody>\n",
       "</table>\n",
       "</div>"
      ],
      "text/plain": [
       "      RidgeCV    LassoCV  Elastic Net  Bayesian Ridge  Cluster+RidgeCV  \\\n",
       "0   22.502401  22.277641    22.491768       22.303621        19.808924   \n",
       "1   22.260726  22.572311    22.327935       22.387959        19.850527   \n",
       "2   22.484320  22.150640    22.225014       22.201448        19.673575   \n",
       "3   22.460174  22.462387    22.398942       22.239297        19.794686   \n",
       "4   22.347536  22.278736    22.360506       22.586287        19.602049   \n",
       "5   22.415236  22.172011    22.288880       22.363778        19.830526   \n",
       "6   22.433290  22.424421    22.413970       22.352696        20.039252   \n",
       "7   22.406611  22.101011    22.121561       22.270664        19.900161   \n",
       "8   22.171628  22.322204    22.333176       22.358787        19.856051   \n",
       "9   22.240735  22.440242    22.288964       22.493874        19.763349   \n",
       "10  22.174360  22.299078    22.220053       22.135535        19.876890   \n",
       "11  22.197181  22.506395    22.337339       22.252397        19.806504   \n",
       "12  22.516362  22.274880    22.525669       22.473555        19.655774   \n",
       "13  22.372290  22.122645    22.217667       22.525540        19.716063   \n",
       "14  22.390616  22.570939    22.187437       22.271761        19.914233   \n",
       "15  22.273109  22.378249    22.200034       22.383006        19.710326   \n",
       "16  22.505919  22.212583    22.234895       22.415161        19.845108   \n",
       "17  22.667521  22.207817    22.159374       22.485313        19.720278   \n",
       "18  22.398848  22.220294    22.433180       22.396829        19.792381   \n",
       "19  22.478210  22.311644    22.312510       22.125146        19.870419   \n",
       "20  22.275809  22.369570    22.317692       22.352272        19.774891   \n",
       "21  22.439503  22.461799    22.220959       22.554351        19.793779   \n",
       "22  22.307809  22.536772    22.316986       22.338781        19.829526   \n",
       "23  22.507415  22.405629    22.385937       22.110725        19.747593   \n",
       "24  22.208510  22.477371    22.461848       22.428499        19.719224   \n",
       "25  22.344143  22.403699    22.372210       22.614959        19.917444   \n",
       "26  22.339237  22.124339    22.675777       22.309694        19.718414   \n",
       "27  22.135986  22.314878    22.202087       22.284770        19.709582   \n",
       "28  22.252633  22.313087    22.237546       22.363102        19.951137   \n",
       "29  22.244343  22.181087    22.281722       22.264214        20.037418   \n",
       "30  22.447176  22.478868    22.256741       22.205836        19.898231   \n",
       "31  22.234257  22.115194    22.281404       22.314710        19.732229   \n",
       "32  22.362114  22.190331    22.266590       22.294642        19.911891   \n",
       "33  22.360042  22.323231    22.472044       22.292272        19.922974   \n",
       "34  22.421483  22.426044    22.345137       22.284800        19.975393   \n",
       "35  22.144498  22.328089    22.315778       22.490963        19.764567   \n",
       "36  22.454648  22.180626    22.327951       22.557954        19.792345   \n",
       "37  22.252395  22.263177    22.333282       22.286624        19.963632   \n",
       "38  22.366919  22.473229    22.378060       22.393543        19.836715   \n",
       "39  22.514748  22.230191    22.382087       22.434265        19.743435   \n",
       "40  22.109528  22.363798    22.303950       22.286442        19.775041   \n",
       "41  22.402035  22.234580    22.424444       22.453172        19.750062   \n",
       "42  22.425946  22.339910    22.381140       22.146177        19.872308   \n",
       "43  22.599292  22.240930    22.466906       22.399196        19.999475   \n",
       "44  22.425105  22.246583    22.225364       22.140150        19.775677   \n",
       "45  22.318086  22.257136    22.380500       22.540802        19.700474   \n",
       "46  22.381166  22.338439    22.439687       22.318095        19.745765   \n",
       "47  22.493190  22.380461    22.356459       22.273277        19.909203   \n",
       "48  22.298383  22.281836    22.327613       22.284839        19.899932   \n",
       "49  22.539559  22.296737    22.405401       22.150928        19.634084   \n",
       "50  22.366061  22.317675    22.332444       22.343854        19.816590   \n",
       "51   0.123728   0.120029     0.101693        0.124526         0.100976   \n",
       "\n",
       "    Cluster+LassoCV  Cluster+ElasticNet  Cluster+BayesianRidge  RandomForest  \n",
       "0         19.853719           19.865930              19.920144     17.214124  \n",
       "1         19.905292           19.871863              19.711863     16.973145  \n",
       "2         19.828611           19.865896              19.782468     16.660871  \n",
       "3         19.683496           19.905214              19.679832     16.992076  \n",
       "4         19.865757           19.879985              19.995347     17.163071  \n",
       "5         19.827931           19.976835              19.764557     16.816460  \n",
       "6         19.839518           19.914018              19.768828     17.008459  \n",
       "7         19.802701           19.879641              19.850070     17.195894  \n",
       "8         19.883596           19.842464              19.840141     17.109556  \n",
       "9         19.898675           20.007010              19.951937     17.181746  \n",
       "10        19.830375           19.745575              19.710184     17.177099  \n",
       "11        19.786557           19.818384              19.563858     17.066479  \n",
       "12        19.867674           19.790481              19.771344     17.306853  \n",
       "13        19.812233           19.916531              19.851170     17.083070  \n",
       "14        19.930207           19.829684              19.884500     16.821923  \n",
       "15        19.867707           19.940687              19.807189     16.972732  \n",
       "16        19.813264           19.673983              19.841731     17.163789  \n",
       "17        19.841390           19.859183              19.756722     16.924300  \n",
       "18        19.884288           20.074158              19.821087     17.267851  \n",
       "19        19.774068           19.967962              19.918022     16.835931  \n",
       "20        19.621592           20.141519              19.767498     16.959625  \n",
       "21        19.871948           19.893438              19.892338     16.877549  \n",
       "22        19.749874           19.874561              19.858812     17.246732  \n",
       "23        19.802455           19.749243              19.944089     16.952981  \n",
       "24        19.752278           19.779857              19.889720     17.107334  \n",
       "25        19.809159           19.835683              19.922316     17.016874  \n",
       "26        19.920742           19.880668              19.900817     16.900103  \n",
       "27        19.816843           19.892763              19.947473     17.049616  \n",
       "28        19.811313           19.837059              19.785199     17.256819  \n",
       "29        19.802750           19.870990              19.784775     17.181361  \n",
       "30        19.796433           19.782807              19.862647     17.090744  \n",
       "31        19.763993           19.850314              20.003331     17.150174  \n",
       "32        19.776796           19.990129              19.785200     16.837457  \n",
       "33        19.687712           19.895966              19.963525     16.844948  \n",
       "34        19.776067           19.732530              19.733678     16.922276  \n",
       "35        19.821704           19.834346              19.842700     16.943505  \n",
       "36        19.644819           19.789927              19.595011     16.847049  \n",
       "37        19.968036           19.881240              19.814522     17.137149  \n",
       "38        19.880068           19.885728              19.799752     16.868457  \n",
       "39        19.804217           19.600901              19.987989     16.918012  \n",
       "40        19.632891           19.803171              20.048183     17.324292  \n",
       "41        19.842586           19.998897              20.075285     17.103169  \n",
       "42        19.933588           19.683320              20.001127     17.006724  \n",
       "43        19.781352           19.803664              19.779703     17.370982  \n",
       "44        19.677037           19.986108              19.902809     16.872692  \n",
       "45        19.805836           19.798362              19.943336     17.225930  \n",
       "46        19.845331           19.793436              19.829415     16.826994  \n",
       "47        19.937071           19.800769              19.953520     16.900733  \n",
       "48        19.937181           19.896484              19.930980     17.110881  \n",
       "49        19.879533           19.956501              19.867233     16.943516  \n",
       "50        19.818965           19.862917              19.852080     17.034602  \n",
       "51         0.078092            0.096514               0.104978      0.158521  "
      ]
     },
     "execution_count": 157,
     "metadata": {},
     "output_type": "execute_result"
    }
   ],
   "source": [
    "df_mae"
   ]
  },
  {
   "cell_type": "code",
   "execution_count": 31,
   "metadata": {
    "collapsed": false
   },
   "outputs": [],
   "source": [
    "df_mae.to_csv(\"median absolute error_add.csv\")"
   ]
  },
  {
   "cell_type": "code",
   "execution_count": 32,
   "metadata": {
    "collapsed": true
   },
   "outputs": [],
   "source": [
    "df_mse.to_csv(\"mean squared error_add.csv\")"
   ]
  },
  {
   "cell_type": "code",
   "execution_count": null,
   "metadata": {
    "collapsed": true
   },
   "outputs": [],
   "source": []
  }
 ],
 "metadata": {
  "anaconda-cloud": {},
  "kernelspec": {
   "display_name": "Python [default]",
   "language": "python",
   "name": "python3"
  },
  "language_info": {
   "codemirror_mode": {
    "name": "ipython",
    "version": 3
   },
   "file_extension": ".py",
   "mimetype": "text/x-python",
   "name": "python",
   "nbconvert_exporter": "python",
   "pygments_lexer": "ipython3",
   "version": "3.5.2"
  }
 },
 "nbformat": 4,
 "nbformat_minor": 1
}
