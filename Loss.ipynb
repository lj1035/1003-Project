{
 "cells": [
  {
   "cell_type": "code",
   "execution_count": 23,
   "metadata": {
    "collapsed": true
   },
   "outputs": [],
   "source": [
    "import pandas as pd\n",
    "import numpy as np\n",
    "from sklearn.model_selection import train_test_split\n",
    "import sklearn.metrics as metrics\n",
    "from sklearn.linear_model import LinearRegression\n",
    "from sklearn.utils import resample"
   ]
  },
  {
   "cell_type": "code",
   "execution_count": 24,
   "metadata": {
    "collapsed": true
   },
   "outputs": [],
   "source": [
    "import time"
   ]
  },
  {
   "cell_type": "code",
   "execution_count": 26,
   "metadata": {
    "collapsed": true
   },
   "outputs": [],
   "source": [
    "data = pd.read_csv('./airbnb_v2.csv', low_memory=False, index_col=0)\n",
    "data = data[data['Y'] <= 200]\n",
    "#data['zipcode'] = pd.to_numeric(data['zipcode'], errors='coerce')\n",
    "#data = data.drop(['review_scores_rating', 'number_of_reviews', 'calculated_host_listings_count'], axis=1)\n",
    "#data = data.dropna()\n",
    "x = data.iloc[:, 0:-1]\n",
    "y = data.iloc[:, -1]"
   ]
  },
  {
   "cell_type": "code",
   "execution_count": 28,
   "metadata": {
    "collapsed": false
   },
   "outputs": [],
   "source": [
    "x = x.as_matrix()\n",
    "y = y.as_matrix()"
   ]
  },
  {
   "cell_type": "code",
   "execution_count": 29,
   "metadata": {
    "collapsed": true
   },
   "outputs": [],
   "source": [
    "x_train, x_test, y_train, y_test = train_test_split(x, y, test_size=0.3)"
   ]
  },
  {
   "cell_type": "code",
   "execution_count": 33,
   "metadata": {
    "collapsed": false
   },
   "outputs": [
    {
     "name": "stdout",
     "output_type": "stream",
     "text": [
      "0.19690771886962466\n"
     ]
    }
   ],
   "source": [
    "from sklearn.linear_model import LinearRegression\n",
    "\n",
    "loss_md_ae = np.zeros(50)\n",
    "loss_mn_se = np.zeros(50)\n",
    "\n",
    "start = time.clock()\n",
    "\n",
    "for i in range(50):\n",
    "    model = LinearRegression()\n",
    "    bs_index = resample(np.arange(len(x_train)), replace=True)\n",
    "    model.fit(x_train[bs_index, 1:5], y_train[bs_index])\n",
    "    y_pred_test = model.predict(x_test[:, 1:5])\n",
    "    \n",
    "    loss_md_ae[i] = metrics.median_absolute_error(y_pred_test, y_test)\n",
    "    loss_mn_se[i] = metrics.mean_squared_error(y_pred_test, y_test)\n",
    "\n",
    "runtime = time.clock() - start\n",
    "print(runtime)"
   ]
  },
  {
   "cell_type": "code",
   "execution_count": 9,
   "metadata": {
    "collapsed": true
   },
   "outputs": [],
   "source": [
    "df = pd.DataFrame(loss_md_ae)\n",
    "df.to_csv('loss_md_ae.csv')\n",
    "df = pd.DataFrame(loss_mn_se)\n",
    "df.to_csv('loss_mn_se.csv')"
   ]
  },
  {
   "cell_type": "code",
   "execution_count": 34,
   "metadata": {
    "collapsed": false
   },
   "outputs": [
    {
     "data": {
      "text/plain": [
       "(28.86701933525416, 0.24909380883855486, 1721.778030179049, 1.8063220206326074)"
      ]
     },
     "execution_count": 34,
     "metadata": {},
     "output_type": "execute_result"
    }
   ],
   "source": [
    "np.mean(loss_md_ae), np.std(loss_md_ae), np.mean(loss_mn_se), np.std(loss_mn_se)"
   ]
  },
  {
   "cell_type": "code",
   "execution_count": 62,
   "metadata": {
    "collapsed": false
   },
   "outputs": [
    {
     "name": "stdout",
     "output_type": "stream",
     "text": [
      "947.874364893556\n"
     ]
    }
   ],
   "source": [
    "from sklearn.kernel_ridge import KernelRidge\n",
    "\n",
    "loss_md_ae = np.zeros(50)\n",
    "loss_mn_se = np.zeros(50)\n",
    "\n",
    "start = time.clock()\n",
    "\n",
    "for i in range(50):\n",
    "    model = KernelRidge(kernel='rbf', alpha=1, gamma=0.01)\n",
    "    bs_index = resample(np.arange(len(x_train)), replace=True)\n",
    "    model.fit(x_train[bs_index, 1:], y_train[bs_index])\n",
    "    y_pred_test = model.predict(x_test[:, 1:])\n",
    "    \n",
    "    loss_md_ae[i] = metrics.median_absolute_error(y_pred_test, y_test)\n",
    "    loss_mn_se[i] = metrics.mean_squared_error(y_pred_test, y_test)\n",
    "\n",
    "runtime = time.clock() - start\n",
    "print(runtime)"
   ]
  },
  {
   "cell_type": "code",
   "execution_count": 51,
   "metadata": {
    "collapsed": true
   },
   "outputs": [],
   "source": [
    "df = pd.DataFrame(loss_md_ae)\n",
    "df.to_csv('loss_md_ae.csv')\n",
    "df = pd.DataFrame(loss_mn_se)\n",
    "df.to_csv('loss_mn_se.csv')"
   ]
  },
  {
   "cell_type": "code",
   "execution_count": 52,
   "metadata": {
    "collapsed": false
   },
   "outputs": [
    {
     "data": {
      "text/plain": [
       "(21.337720490487971,\n",
       " 0.19159754581008218,\n",
       " 1101.9605491923505,\n",
       " 5.7464370974973447)"
      ]
     },
     "execution_count": 52,
     "metadata": {},
     "output_type": "execute_result"
    }
   ],
   "source": [
    "np.mean(loss_md_ae), np.std(loss_md_ae), np.mean(loss_mn_se), np.std(loss_mn_se)"
   ]
  },
  {
   "cell_type": "code",
   "execution_count": 63,
   "metadata": {
    "collapsed": false
   },
   "outputs": [
    {
     "name": "stdout",
     "output_type": "stream",
     "text": [
      "2678.8472520478354\n"
     ]
    }
   ],
   "source": [
    "from sklearn.svm import SVR\n",
    "\n",
    "loss_md_ae = np.zeros(50)\n",
    "loss_mn_se = np.zeros(50)\n",
    "\n",
    "start = time.clock()\n",
    "\n",
    "for i in range(50):\n",
    "    model = SVR(kernel='rbf', C=100, gamma=0.01)\n",
    "    bs_index = resample(np.arange(len(x_train)), replace=True)\n",
    "    model.fit(x_train[bs_index, 1:], y_train[bs_index])\n",
    "    y_pred_test = model.predict(x_test[:, 1:])\n",
    "    \n",
    "    loss_md_ae[i] = metrics.median_absolute_error(y_pred_test, y_test)\n",
    "    loss_mn_se[i] = metrics.mean_squared_error(y_pred_test, y_test)\n",
    "\n",
    "runtime = time.clock() - start\n",
    "print(runtime)"
   ]
  },
  {
   "cell_type": "code",
   "execution_count": 54,
   "metadata": {
    "collapsed": false
   },
   "outputs": [],
   "source": [
    "df = pd.DataFrame(loss_md_ae)\n",
    "df.to_csv('loss_md_ae.csv')\n",
    "df = pd.DataFrame(loss_mn_se)\n",
    "df.to_csv('loss_mn_se.csv')"
   ]
  },
  {
   "cell_type": "code",
   "execution_count": 55,
   "metadata": {
    "collapsed": false
   },
   "outputs": [
    {
     "data": {
      "text/plain": [
       "(20.688845990376159,\n",
       " 0.20524879905319376,\n",
       " 1102.9789200601385,\n",
       " 7.7247054935751818)"
      ]
     },
     "execution_count": 55,
     "metadata": {},
     "output_type": "execute_result"
    }
   ],
   "source": [
    "np.mean(loss_md_ae), np.std(loss_md_ae), np.mean(loss_mn_se), np.std(loss_mn_se)"
   ]
  },
  {
   "cell_type": "code",
   "execution_count": 11,
   "metadata": {
    "collapsed": false
   },
   "outputs": [
    {
     "name": "stdout",
     "output_type": "stream",
     "text": [
      "772.4821224689872\n"
     ]
    }
   ],
   "source": [
    "from sklearn.ensemble import GradientBoostingRegressor\n",
    "\n",
    "loss_md_ae = np.zeros(50)\n",
    "loss_mn_se = np.zeros(50)\n",
    "\n",
    "start = time.clock()\n",
    "\n",
    "for i in range(50):\n",
    "    model = GradientBoostingRegressor(loss='huber', n_estimators=50, max_depth=9)\n",
    "    bs_index = resample(np.arange(len(x_train)), replace=True)\n",
    "    model.fit(x_train[bs_index], y_train[bs_index])\n",
    "    y_pred_test = model.predict(x_test)\n",
    "    \n",
    "    loss_md_ae[i] = metrics.median_absolute_error(y_pred_test, y_test)\n",
    "    loss_mn_se[i] = metrics.mean_squared_error(y_pred_test, y_test)\n",
    "    \n",
    "runtime = time.clock() - start\n",
    "print(runtime)"
   ]
  },
  {
   "cell_type": "code",
   "execution_count": 12,
   "metadata": {
    "collapsed": true
   },
   "outputs": [],
   "source": [
    "df = pd.DataFrame(loss_md_ae)\n",
    "df.to_csv('loss_md_ae.csv')\n",
    "df = pd.DataFrame(loss_mn_se)\n",
    "df.to_csv('loss_mn_se.csv')"
   ]
  },
  {
   "cell_type": "code",
   "execution_count": 13,
   "metadata": {
    "collapsed": false
   },
   "outputs": [
    {
     "data": {
      "text/plain": [
       "(16.175643305727377,\n",
       " 0.17355293283801901,\n",
       " 768.36865134130335,\n",
       " 7.7443497375198378)"
      ]
     },
     "execution_count": 13,
     "metadata": {},
     "output_type": "execute_result"
    }
   ],
   "source": [
    "np.mean(loss_md_ae), np.std(loss_md_ae), np.mean(loss_mn_se), np.std(loss_mn_se)"
   ]
  },
  {
   "cell_type": "code",
   "execution_count": 14,
   "metadata": {
    "collapsed": false
   },
   "outputs": [
    {
     "name": "stdout",
     "output_type": "stream",
     "text": [
      "76.05476614928693\n"
     ]
    }
   ],
   "source": [
    "import sys\n",
    "sys.path.append('C:\\\\Users\\\\xsyso\\\\xgboost\\\\python-package')\n",
    "import xgboost as xgb\n",
    "\n",
    "loss_md_ae = np.zeros(50)\n",
    "loss_mn_se = np.zeros(50)\n",
    "\n",
    "start = time.clock()\n",
    "\n",
    "for i in range(50):\n",
    "    model = xgb.XGBRegressor(n_estimators=100, learning_rate=0.1, max_depth=8, colsample_bylevel=0.9, colsample_bytree=0.5)\n",
    "    bs_index = resample(np.arange(len(x_train)), replace=True)\n",
    "    model.fit(x_train[bs_index], y_train[bs_index])\n",
    "    y_pred_test = model.predict(x_test)\n",
    "    \n",
    "    loss_md_ae[i] = metrics.median_absolute_error(y_pred_test, y_test)\n",
    "    loss_mn_se[i] = metrics.mean_squared_error(y_pred_test, y_test)\n",
    "    \n",
    "runtime = time.clock() - start\n",
    "print(runtime)"
   ]
  },
  {
   "cell_type": "code",
   "execution_count": 15,
   "metadata": {
    "collapsed": true
   },
   "outputs": [],
   "source": [
    "df = pd.DataFrame(loss_md_ae)\n",
    "df.to_csv('loss_md_ae.csv')\n",
    "df = pd.DataFrame(loss_mn_se)\n",
    "df.to_csv('loss_mn_se.csv')"
   ]
  },
  {
   "cell_type": "code",
   "execution_count": 16,
   "metadata": {
    "collapsed": false
   },
   "outputs": [
    {
     "data": {
      "text/plain": [
       "(16.193305015563965,\n",
       " 0.14038869116448621,\n",
       " 732.17730822885528,\n",
       " 5.6841995638853122)"
      ]
     },
     "execution_count": 16,
     "metadata": {},
     "output_type": "execute_result"
    }
   ],
   "source": [
    "np.mean(loss_md_ae), np.std(loss_md_ae), np.mean(loss_mn_se), np.std(loss_mn_se)"
   ]
  },
  {
   "cell_type": "code",
   "execution_count": 35,
   "metadata": {
    "collapsed": false
   },
   "outputs": [
    {
     "name": "stdout",
     "output_type": "stream",
     "text": [
      "400.12627723574406\n"
     ]
    }
   ],
   "source": [
    "from sklearn.ensemble import RandomForestRegressor\n",
    "\n",
    "loss_md_ae = np.zeros(50)\n",
    "loss_mn_se = np.zeros(50)\n",
    "\n",
    "start = time.clock()\n",
    "\n",
    "for i in range(50):\n",
    "    model = RandomForestRegressor(n_estimators=100, max_depth=13)\n",
    "    bs_index = resample(np.arange(len(x_train)), replace=True)\n",
    "    model.fit(x_train[bs_index], y_train[bs_index])\n",
    "    y_pred_test = model.predict(x_test)\n",
    "    \n",
    "    loss_md_ae[i] = metrics.median_absolute_error(y_pred_test, y_test)\n",
    "    loss_mn_se[i] = metrics.mean_squared_error(y_pred_test, y_test)\n",
    "    \n",
    "runtime = time.clock() - start\n",
    "print(runtime)"
   ]
  },
  {
   "cell_type": "code",
   "execution_count": 36,
   "metadata": {
    "collapsed": false
   },
   "outputs": [
    {
     "data": {
      "text/plain": [
       "(18.273857982296377,\n",
       " 0.14891315623546078,\n",
       " 901.34982976304013,\n",
       " 6.0348240109450266)"
      ]
     },
     "execution_count": 36,
     "metadata": {},
     "output_type": "execute_result"
    }
   ],
   "source": [
    "np.mean(loss_md_ae), np.std(loss_md_ae), np.mean(loss_mn_se), np.std(loss_mn_se)"
   ]
  },
  {
   "cell_type": "code",
   "execution_count": null,
   "metadata": {
    "collapsed": true
   },
   "outputs": [],
   "source": []
  }
 ],
 "metadata": {
  "kernelspec": {
   "display_name": "Python 3",
   "language": "python",
   "name": "python3"
  },
  "language_info": {
   "codemirror_mode": {
    "name": "ipython",
    "version": 3
   },
   "file_extension": ".py",
   "mimetype": "text/x-python",
   "name": "python",
   "nbconvert_exporter": "python",
   "pygments_lexer": "ipython3",
   "version": "3.6.0"
  }
 },
 "nbformat": 4,
 "nbformat_minor": 2
}
